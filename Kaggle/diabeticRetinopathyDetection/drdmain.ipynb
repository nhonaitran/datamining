{
 "cells": [
  {
   "cell_type": "code",
   "execution_count": 82,
   "metadata": {
    "collapsed": true
   },
   "outputs": [],
   "source": [
    "import os\n",
    "import glob\n",
    "import numpy as np\n",
    "import pandas as pd"
   ]
  },
  {
   "cell_type": "code",
   "execution_count": 137,
   "metadata": {
    "collapsed": false
   },
   "outputs": [],
   "source": [
    "mainPath = \"/Users/nhonaitran/Projects/Kaggle/diabeticRetinopathyDetection\"\n",
    "appPathTemp = \"/Users/nhonaitran/git\"\n",
    "imageTrainPath = \"data/train/\"\n",
    "imageTestPath = \"data/test/\"\n",
    "imageSamplePath = \"data/sample/\"\n",
    "submissionFilePath = \"submission\""
   ]
  },
  {
   "cell_type": "code",
   "execution_count": 89,
   "metadata": {
    "collapsed": false
   },
   "outputs": [
    {
     "name": "stdout",
     "output_type": "stream",
     "text": [
      "/Users/nhonaitran/Projects/Kaggle/diabeticRetinopathyDetection/data/train\n"
     ]
    }
   ],
   "source": [
    "print(os.path.join(appPath, imageTrainPath))"
   ]
  },
  {
   "cell_type": "code",
   "execution_count": 90,
   "metadata": {
    "collapsed": true
   },
   "outputs": [],
   "source": [
    "import time\n",
    "def getSubmissionFileName(filepath):\n",
    "    timestr = time.strftime(\"%Y%m%d_%H%M%S\")\n",
    "    filename = os.path.join(filepath, \"submission_\" + timestr + \".csv\")\n",
    "    return filename"
   ]
  },
  {
   "cell_type": "code",
   "execution_count": 91,
   "metadata": {
    "collapsed": true
   },
   "outputs": [],
   "source": [
    "def generateSubmissionFile(filename):\n",
    "    file = open(filename, \"w\")\n",
    "    file.write(\"image,level\\n\")\n",
    "    file.write(\"1_left,0\\n\")\n",
    "    file.write(\"2_right,1\\n\")\n",
    "    file.close()"
   ]
  },
  {
   "cell_type": "code",
   "execution_count": 111,
   "metadata": {
    "collapsed": false
   },
   "outputs": [],
   "source": [
    "def loadImages(imageDirectory, numRows, maxPixel = 25):\n",
    "    imageSize = maxPixel * maxPixel\n",
    "    num_features = imageSize\n",
    "    \n",
    "    imageSize = maxPixel * maxPixel\n",
    "    numFeatures = imageSize\n",
    "\n",
    "    # X is the feature vector with one row of features per image\n",
    "    # consisting of the pixel values and our metric\n",
    "    X = np.zeros((numRows, numFeatures), dtype=float)\n",
    "    # y is the numeric class label \n",
    "    y = np.zeros((numRows))\n",
    "\n",
    "    i = 0    \n",
    "    label = 0\n",
    "    files = glob.glob(imageDirectory, \"*.jpeg\"))\n",
    "    \n",
    "    for root, directories, filenames in os.walk(currentDirectory):\n",
    "        for filename in filenames:\n",
    "            if filename[-5:] != \".jpeg\":\n",
    "                continue\n",
    "            print(filename)\n",
    "\n",
    "\n",
    "        # Navigate through the list of directories\n",
    "    for folder in currentDirectory:\n",
    "        # Append the string class name for each class\n",
    "        currentClass = folder.split(os.pathsep)[-1]\n",
    "        for fileNameDir in os.walk(folder):   \n",
    "            for fileName in fileNameDir[2]:\n",
    "                # Only read in the images\n",
    "                if fileName[-4:] != \".jpeg\":\n",
    "                  continue\n",
    "\n",
    "                nameFileImage = \"{0}{1}{2}\".format(fileNameDir[0], os.sep, fileName)            \n",
    "                files.append(nameFileImage)\n",
    "                \n",
    "                # read in the image and resize\n",
    "                image = imread(nameFileImage, as_grey=True)\n",
    "                image = resize(image, (maxPixel, maxPixel))\n",
    "\n",
    "                # store the rescaled image pixels and the axis ratio\n",
    "                X[i, 0:imageSize] = np.reshape(image, (1, imageSize))\n",
    "\n",
    "                # store the classlabel\n",
    "                y[i] = label\n",
    "                i += 1\n",
    "\n",
    "                # report progress for each 5% done  \n",
    "                report = [int((j+1)*num_rows/20.) for j in range(20)]\n",
    "                if i in report: print(np.ceil(i *100.0 / num_rows), \"% done\")\n",
    "\n",
    "    return(files, X, y)\n",
    "    "
   ]
  },
  {
   "cell_type": "code",
   "execution_count": 92,
   "metadata": {
    "collapsed": false
   },
   "outputs": [],
   "source": [
    "generateSubmissionFile(getSubmissionFileName(submissionFilePath))"
   ]
  },
  {
   "cell_type": "code",
   "execution_count": 128,
   "metadata": {
    "collapsed": false
   },
   "outputs": [],
   "source": [
    "trainImages  = list(set(glob.glob(os.path.join(mainPath,imageTrainPath, \"*\"))).difference(set(glob.glob(os.path.join(\"data\",\"train\",\"*.*\")))))\n",
    "testImages   = list(set(glob.glob(os.path.join(mainPath,imageTestPath, \"*\"))).difference(set(glob.glob(os.path.join(\"data\",\"test\",\"*.*\")))))\n",
    "sampleImages = list(set(glob.glob(os.path.join(mainPath,imageSamplePath, \"*\"))).difference(set(glob.glob(os.path.join(\"data\",\"sample\",\"*.csv\")))))"
   ]
  },
  {
   "cell_type": "code",
   "execution_count": 130,
   "metadata": {
    "collapsed": false
   },
   "outputs": [
    {
     "name": "stdout",
     "output_type": "stream",
     "text": [
      "['/Users/nhonaitran/Projects/Kaggle/diabeticRetinopathyDetection/data/sample/15_right.jpeg', '/Users/nhonaitran/Projects/Kaggle/diabeticRetinopathyDetection/data/sample/sampleSubmission.csv', '/Users/nhonaitran/Projects/Kaggle/diabeticRetinopathyDetection/data/sample/16_right.jpeg', '/Users/nhonaitran/Projects/Kaggle/diabeticRetinopathyDetection/data/sample/15_left.jpeg', '/Users/nhonaitran/Projects/Kaggle/diabeticRetinopathyDetection/data/sample/17_left.jpeg', '/Users/nhonaitran/Projects/Kaggle/diabeticRetinopathyDetection/data/sample/13_right.jpeg', '/Users/nhonaitran/Projects/Kaggle/diabeticRetinopathyDetection/data/sample/17_right.jpeg', '/Users/nhonaitran/Projects/Kaggle/diabeticRetinopathyDetection/data/sample/10_left.jpeg', '/Users/nhonaitran/Projects/Kaggle/diabeticRetinopathyDetection/data/sample/10_right.jpeg', '/Users/nhonaitran/Projects/Kaggle/diabeticRetinopathyDetection/data/sample/13_left.jpeg', '/Users/nhonaitran/Projects/Kaggle/diabeticRetinopathyDetection/data/sample/16_left.jpeg']\n"
     ]
    }
   ],
   "source": [
    "print(sampleImages)"
   ]
  },
  {
   "cell_type": "code",
   "execution_count": 157,
   "metadata": {
    "collapsed": false
   },
   "outputs": [
    {
     "name": "stdout",
     "output_type": "stream",
     "text": [
      "10_left.jpeg\n",
      "10_right.jpeg\n",
      "13_left.jpeg\n",
      "13_right.jpeg\n",
      "15_left.jpeg\n",
      "15_right.jpeg\n",
      "16_left.jpeg\n",
      "16_right.jpeg\n",
      "17_left.jpeg\n",
      "17_right.jpeg\n"
     ]
    }
   ],
   "source": [
    "numRows = 10\n",
    "#files, X, y = loadImages(os.path.join(appPath,imageSamplePath), numRows)\n",
    "i = 0    \n",
    "label = 0\n",
    "files = []\n",
    "currentDirectory = os.path.join(mainPath,imageSamplePath)\n",
    "# Navigate through the list of directories\n",
    "for root, directories, filenames in os.walk(currentDirectory):\n",
    "    for filename in filenames:\n",
    "        if filename[-5:] != \".jpeg\":\n",
    "            continue\n",
    "        print(filename)\n"
   ]
  },
  {
   "cell_type": "code",
   "execution_count": 150,
   "metadata": {
    "collapsed": false
   },
   "outputs": [
    {
     "name": "stdout",
     "output_type": "stream",
     "text": [
      "[]\n"
     ]
    }
   ],
   "source": [
    "print(files)\n"
   ]
  },
  {
   "cell_type": "code",
   "execution_count": 127,
   "metadata": {
    "collapsed": false
   },
   "outputs": [
    {
     "data": {
      "text/plain": [
       "set()"
      ]
     },
     "execution_count": 127,
     "metadata": {},
     "output_type": "execute_result"
    }
   ],
   "source": [
    "set(glob.glob(os.path.join(appPath,imageSamplePath, \"?.jpeg\")))"
   ]
  },
  {
   "cell_type": "code",
   "execution_count": 131,
   "metadata": {
    "collapsed": false
   },
   "outputs": [
    {
     "data": {
      "text/plain": [
       "'/Users/nhonaitran/Projects/Kaggle/diabeticRetinopathyDetection/data/sample'"
      ]
     },
     "execution_count": 131,
     "metadata": {},
     "output_type": "execute_result"
    }
   ],
   "source": [
    "os.path.join(appPath,imageSamplePath)"
   ]
  },
  {
   "cell_type": "code",
   "execution_count": 159,
   "metadata": {
    "collapsed": false
   },
   "outputs": [
    {
     "data": {
      "text/plain": [
       "['/Users/nhonaitran/Projects/Kaggle/diabeticRetinopathyDetection/data/sample/10_left.jpeg',\n",
       " '/Users/nhonaitran/Projects/Kaggle/diabeticRetinopathyDetection/data/sample/10_right.jpeg',\n",
       " '/Users/nhonaitran/Projects/Kaggle/diabeticRetinopathyDetection/data/sample/13_left.jpeg',\n",
       " '/Users/nhonaitran/Projects/Kaggle/diabeticRetinopathyDetection/data/sample/13_right.jpeg',\n",
       " '/Users/nhonaitran/Projects/Kaggle/diabeticRetinopathyDetection/data/sample/15_left.jpeg',\n",
       " '/Users/nhonaitran/Projects/Kaggle/diabeticRetinopathyDetection/data/sample/15_right.jpeg',\n",
       " '/Users/nhonaitran/Projects/Kaggle/diabeticRetinopathyDetection/data/sample/16_left.jpeg',\n",
       " '/Users/nhonaitran/Projects/Kaggle/diabeticRetinopathyDetection/data/sample/16_right.jpeg',\n",
       " '/Users/nhonaitran/Projects/Kaggle/diabeticRetinopathyDetection/data/sample/17_left.jpeg',\n",
       " '/Users/nhonaitran/Projects/Kaggle/diabeticRetinopathyDetection/data/sample/17_right.jpeg']"
      ]
     },
     "execution_count": 159,
     "metadata": {},
     "output_type": "execute_result"
    }
   ],
   "source": [
    "glob.glob(os.path.join(mainPath,imageSamplePath, \"*.jpeg\"))\n"
   ]
  },
  {
   "cell_type": "code",
   "execution_count": null,
   "metadata": {
    "collapsed": true
   },
   "outputs": [],
   "source": []
  }
 ],
 "metadata": {
  "kernelspec": {
   "display_name": "Python 3",
   "language": "python",
   "name": "python3"
  },
  "language_info": {
   "codemirror_mode": {
    "name": "ipython",
    "version": 3
   },
   "file_extension": ".py",
   "mimetype": "text/x-python",
   "name": "python",
   "nbconvert_exporter": "python",
   "pygments_lexer": "ipython3",
   "version": "3.4.3"
  }
 },
 "nbformat": 4,
 "nbformat_minor": 0
}
