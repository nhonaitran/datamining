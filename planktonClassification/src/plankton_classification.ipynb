{
 "metadata": {
  "name": "",
  "signature": "sha256:2986b3ac16bd55584b37a142eabd15599d2511c7478862a039f255bdc9be122a"
 },
 "nbformat": 3,
 "nbformat_minor": 0,
 "worksheets": [
  {
   "cells": [
    {
     "cell_type": "code",
     "collapsed": false,
     "input": [
      "from skimage.io import imread\n",
      "from skimage.transform import resize\n",
      "from sklearn.ensemble import RandomForestClassifier as RF\n",
      "import glob\n",
      "import os\n",
      "from sklearn import cross_validation\n",
      "from sklearn.cross_validation import StratifiedKFold as KFold\n",
      "from sklearn.metrics import classification_report\n",
      "from matplotlib import pyplot as plt\n",
      "from matplotlib import colors\n",
      "from pylab import cm\n",
      "from skimage import segmentation\n",
      "from skimage.morphology import watershed\n",
      "from skimage import measure\n",
      "from skimage import morphology\n",
      "import numpy as np\n",
      "import pandas as pd\n",
      "from scipy import ndimage\n",
      "from skimage.feature import peak_local_max\n",
      "from sklearn.svm import SVC\n",
      "from sklearn.grid_search import GridSearchCV\n",
      "import cv2\n",
      "import cv2.cv as cv\n",
      "import random\n",
      "\n",
      "from scipy.cluster.vq import *\n",
      "from sklearn.preprocessing import StandardScaler"
     ],
     "language": "python",
     "metadata": {},
     "outputs": [],
     "prompt_number": 1
    },
    {
     "cell_type": "code",
     "collapsed": false,
     "input": [
      "# get the classnames from the directory structure\n",
      "dirs = list(set(glob.glob(os.path.join(\"Data\",\"train\", \"*\"))).difference(set(glob.glob(os.path.join(\"Data\",\"train\",\"*.*\")))))\n",
      "dirs.sort()\n",
      "\n",
      "top_k = 10\n",
      "directory_names = dirs[0:top_k]\n",
      "#directory_names=dirs\n",
      "print directory_names"
     ],
     "language": "python",
     "metadata": {},
     "outputs": [
      {
       "output_type": "stream",
       "stream": "stdout",
       "text": [
        "['Data\\\\train\\\\acantharia_protist', 'Data\\\\train\\\\acantharia_protist_big_center', 'Data\\\\train\\\\acantharia_protist_halo', 'Data\\\\train\\\\amphipods', 'Data\\\\train\\\\appendicularian_fritillaridae', 'Data\\\\train\\\\appendicularian_s_shape', 'Data\\\\train\\\\appendicularian_slight_curve', 'Data\\\\train\\\\appendicularian_straight', 'Data\\\\train\\\\artifacts', 'Data\\\\train\\\\artifacts_edge']\n"
       ]
      }
     ],
     "prompt_number": 2
    },
    {
     "cell_type": "code",
     "collapsed": false,
     "input": [
      "print len(directory_names)"
     ],
     "language": "python",
     "metadata": {},
     "outputs": [
      {
       "output_type": "stream",
       "stream": "stdout",
       "text": [
        "10\n"
       ]
      }
     ],
     "prompt_number": 3
    },
    {
     "cell_type": "code",
     "collapsed": false,
     "input": [
      "# find the largest nonzero region\n",
      "def getLargestRegion(props, labelmap, imagethres):\n",
      "    regionmaxprop = None\n",
      "    for regionprop in props:\n",
      "        # check to see if the region is at least 50% nonzero\n",
      "        if sum(imagethres[labelmap == regionprop.label])*1.0/regionprop.area < 0.50:\n",
      "            continue\n",
      "        if regionmaxprop is None:\n",
      "            regionmaxprop = regionprop\n",
      "        if regionmaxprop.filled_area < regionprop.filled_area:\n",
      "            regionmaxprop = regionprop\n",
      "    return regionmaxprop\n",
      "\n",
      "def getGlobalFeatures(image):\n",
      "    image = image.copy()\n",
      "    \n",
      "    # thresholding the image on the the mean value\n",
      "    # to reduce noise in the image, eliminate some of the background\n",
      "    imagethr = np.where(image > np.mean(image),0.,1.0)\n",
      "\n",
      "    # dilate the image to connect neighboring pixels\n",
      "    imdilated = morphology.dilation(imagethr, np.ones((4,4)))\n",
      "\n",
      "    # alculate the labels for connected regions Create the label list\n",
      "    label_list = measure.label(imdilated)\n",
      "    label_list = imagethr*label_list\n",
      "    label_list = label_list.astype(int)\n",
      "    \n",
      "    region_list = measure.regionprops(label_list)\n",
      "    maxregion = getLargestRegion(region_list, label_list, imagethr)\n",
      "    \n",
      "    # guard against cases where the segmentation fails by providing zeros\n",
      "    filled_area = 0.0\n",
      "    perimeter = 0.0\n",
      "    ratio = 0.0\n",
      "    compactness = 0.0\n",
      "    moments=np.zeros([7,1])\n",
      "    if (not maxregion is None):\n",
      "        if ((maxregion.major_axis_length != 0.0)):\n",
      "            ratio = maxregion.minor_axis_length*1.0 / maxregion.major_axis_length\n",
      "        \n",
      "        no_of_pixels_in_region = maxregion.area\n",
      "        if (no_of_pixels_in_region == 0.0):\n",
      "            no_of_pixels_in_region = 0.0001  # do this to prevent divide-by-zero when calc compactness\n",
      "            \n",
      "        filled_area = maxregion.filled_area\n",
      "        perimeter = maxregion.perimeter\n",
      "        compactness = perimeter * perimeter / no_of_pixels_in_region\n",
      "        moments = maxregion.moments_hu\n",
      "    return(compactness, filled_area, perimeter, ratio, moments)\n",
      "    \n",
      "def getFeaturesUsingSIFT(k = 12):\n",
      "    des_list=[]\n",
      "    # Navigate through the list of directories\n",
      "    for folder in directory_names:\n",
      "        for fileNameDir in os.walk(folder):   \n",
      "            for fileName in fileNameDir[2]:\n",
      "                # Only read in the images\n",
      "                if fileName[-4:] != \".jpg\":\n",
      "                  continue\n",
      "\n",
      "                # Read in the images and create the features\n",
      "                nameFileImage = \"{0}{1}{2}\".format(fileNameDir[0], os.sep, fileName)            \n",
      "                image = imread(nameFileImage, as_grey=True)    \n",
      "\n",
      "                sift = cv2.SIFT()\n",
      "                kp, des = sift.detectAndCompute(image,None)\n",
      "                if (des==None):\n",
      "                    des=np.array([[0]*128])\n",
      "                des_list.append(des)\n",
      "    \n",
      "    \n",
      "    \n",
      "    # Using Bag of Words (Visual Words) model \n",
      "    # for having same size of features per image\n",
      "    \n",
      "    descriptors =[]\n",
      "    descriptors = np.vstack(des_list) \n",
      "\n",
      "    # Perform k-means clustering\n",
      "    #k = 12\n",
      "    voc, variance = kmeans(descriptors, k, 1) \n",
      "\n",
      "    # Calculate the histogram of features\n",
      "    im_features = np.zeros((len(des_list), k), \"float32\")\n",
      "    for i in xrange(len(des_list)):\n",
      "        words, distance = vq(des_list[i],voc)\n",
      "        for w in words:\n",
      "            im_features[i][w] += 1\n",
      "\n",
      "    # Scaling the words\n",
      "    stdSlr = StandardScaler().fit(im_features)\n",
      "    im_features = stdSlr.transform(im_features)\n",
      "    # im_features has k columns with the number of image rows\n",
      "    # because we clustered all the descriptors (for all images) into k clusters\n",
      "    # and the feature for each image will be histogram of theses clusters\n",
      "    # meaning that each image has k features that each feature is the number of \n",
      "    # descriptors that are belonged to that cluster. \n",
      "\n",
      "    #return(features)\n",
      "    return(im_features)\n",
      "\n",
      "\n",
      "def getFeaturesUsingSURF(k = 12):\n",
      "    des_list=[]\n",
      "    # Navigate through the list of directories\n",
      "    for folder in directory_names:\n",
      "        for fileNameDir in os.walk(folder):   \n",
      "            for fileName in fileNameDir[2]:\n",
      "                # Only read in the images\n",
      "                if fileName[-4:] != \".jpg\":\n",
      "                  continue\n",
      "\n",
      "                # Read in the images and create the features\n",
      "                nameFileImage = \"{0}{1}{2}\".format(fileNameDir[0], os.sep, fileName)            \n",
      "                image = imread(nameFileImage, as_grey=True)    \n",
      "\n",
      "                surf = cv2.SURF(400)\n",
      "                kp, des = surf.detectAndCompute(image,None)\n",
      "                if (des==None):\n",
      "                    des=np.array([[0]*128])\n",
      "                des_list.append(des)\n",
      "    \n",
      "    \n",
      "    \n",
      "    # Using Bag of Words (Visual Words) model \n",
      "    # for having same size of features per image\n",
      "    \n",
      "    descriptors =[]\n",
      "    descriptors = np.vstack(des_list) \n",
      "\n",
      "    # Perform k-means clustering\n",
      "    #k = 12\n",
      "    voc, variance = kmeans(descriptors, k, 1) \n",
      "\n",
      "    # Calculate the histogram of features\n",
      "    im_features = np.zeros((len(des_list), k), \"float32\")\n",
      "    for i in xrange(len(des_list)):\n",
      "        words, distance = vq(des_list[i],voc)\n",
      "        for w in words:\n",
      "            im_features[i][w] += 1\n",
      "\n",
      "    # Scaling the words\n",
      "    stdSlr = StandardScaler().fit(im_features)\n",
      "    im_features = stdSlr.transform(im_features)\n",
      "    # im_features has k columns with the number of image rows\n",
      "    # because we clustered all the descriptors (for all images) into k clusters\n",
      "    # and the feature for each image will be histogram of theses clusters\n",
      "    # meaning that each image has k features that each feature is the number of \n",
      "    # descriptors that are belonged to that cluster. \n",
      "\n",
      "    #return(features)\n",
      "    return(im_features)    \n",
      "\n",
      "\n",
      "\n",
      "def getFeaturesUsingORB(k = 12):\n",
      "    des_list=[]\n",
      "    # Navigate through the list of directories\n",
      "    for folder in directory_names:\n",
      "        for fileNameDir in os.walk(folder):   \n",
      "            for fileName in fileNameDir[2]:\n",
      "                # Only read in the images\n",
      "                if fileName[-4:] != \".jpg\":\n",
      "                  continue\n",
      "\n",
      "                # Read in the images and create the features\n",
      "                nameFileImage = \"{0}{1}{2}\".format(fileNameDir[0], os.sep, fileName)            \n",
      "                image = imread(nameFileImage, as_grey=True)    \n",
      "\n",
      "                orb = cv2.ORB()\n",
      "                kp, des = orb.detectAndCompute(image,None)\n",
      "                if (des==None):\n",
      "                    des=np.array([[0]*32])\n",
      "                des_list.append(des)\n",
      "    \n",
      "    \n",
      "    \n",
      "    # Using Bag of Words (Visual Words) model \n",
      "    # for having same size of features per image\n",
      "    \n",
      "    descriptors =[]\n",
      "    descriptors = np.vstack(des_list) \n",
      "\n",
      "    # Perform k-means clustering\n",
      "    #k = 12\n",
      "    voc, variance = kmeans(descriptors, k, 1) \n",
      "\n",
      "    # Calculate the histogram of features\n",
      "    im_features = np.zeros((len(des_list), k), \"float32\")\n",
      "    for i in xrange(len(des_list)):\n",
      "        words, distance = vq(des_list[i],voc)\n",
      "        for w in words:\n",
      "            im_features[i][w] += 1\n",
      "\n",
      "    # Scaling the words\n",
      "    stdSlr = StandardScaler().fit(im_features)\n",
      "    im_features = stdSlr.transform(im_features)\n",
      "    # im_features has k columns with the number of image rows\n",
      "    # because we clustered all the descriptors (for all images) into k clusters\n",
      "    # and the feature for each image will be histogram of theses clusters\n",
      "    # meaning that each image has k features that each feature is the number of \n",
      "    # descriptors that are belonged to that cluster. \n",
      "\n",
      "    #return(features)\n",
      "    return(im_features)\n",
      "\n",
      "#def getCircles(image, filename, param1=50,param2=30,minRadius=1,maxRadius=100, showimage=True):\n",
      "#    if (showimage):\n",
      "#        sub1 = plt.subplot(1,2,1)\n",
      "#        plt.imshow(image)\n",
      "#        sub1.set_title(fileName)\n",
      "\n",
      "#    gray = imread(fileImage, as_grey=True)    \n",
      "    \n",
      "#    kernel_size = 5\n",
      "#    # smooth image to reduce the number of false positives\n",
      "#    img_smooth = cv2.GaussianBlur(gray, (kernel_size, kernel_size), 0)\n",
      "    \n",
      "#    circles = cv2.HoughCircles(gray,cv.CV_HOUGH_GRADIENT,1,20,param1,param2,minRadius,maxRadius)\n",
      "#    if (circles == None):\n",
      "#        no_of_circles = 0\n",
      "#    else:\n",
      "#        circles = np.uint16(np.around(circles))\n",
      "#        no_of_circles = len(circles)\n",
      "#        img = image.copy()\n",
      "#        if (showimage):\n",
      "#            for i in circles[0,:]:\n",
      "#                # draw the outer circle\n",
      "#                cv2.circle(img,(i[0],i[1]),i[2],(0,255,0),2)\n",
      "#                # draw the center of the circle\n",
      "#                cv2.circle(img,(i[0],i[1]),2,(0,0,255),3)\n",
      "#               \n",
      "#     return(no_of_circles)\n",
      "                \n",
      "def getCornerFeatures(image, filename, maxCorners=25, qualityLevel=0.01, minDistance=10, showimage=True):\n",
      "    radius = 2\n",
      "    color = (0,0,0) #(255,255,255) #white color, (0,0,0)=black color\n",
      "    thickness = -1 #thickness of the circle outline, if positive. \n",
      "                  #negative thickness means that a filled circle is to be drawn.\n",
      "    if (showimage):\n",
      "        sub1 = plt.subplot(1,2,1)\n",
      "        plt.imshow(image)\n",
      "        sub1.set_title(fileName)\n",
      "\n",
      "    gray = imread(filename, as_grey=True)\n",
      "    corners = cv2.goodFeaturesToTrack(gray, maxCorners, qualityLevel, minDistance)\n",
      "    if (corners == None):\n",
      "        no_of_corners = 0\n",
      "        x_coord_std = 0.0\n",
      "        y_coord_std = 0.0\n",
      "    else:\n",
      "        corners = np.int0(corners)\n",
      "        no_of_corners = len(corners)\n",
      "        #print(corners) #contain x,y coordinate pairs of the corners\n",
      "        #print size(corners)\n",
      "        \n",
      "        x_coord_std = corners.std(axis=0)[0][0]\n",
      "        y_coord_std = corners.std(axis=0)[0][1]\n",
      "        \n",
      "        image2 = image.copy()\n",
      "        for corner in corners:\n",
      "            x,y = corner.ravel()\n",
      "            cv2.circle(image2, (x,y), radius, color, thickness)\n",
      "        \n",
      "        if(showimage):\n",
      "            sub2 = plt.subplot(1,2,2)\n",
      "            plt.imshow(image2)\n",
      "            sub2.set_title(\"...with corners added ({0} corners found)\".format(len(corners)))\n",
      "            plt.show()\n",
      "            \n",
      "    return(no_of_corners, x_coord_std, y_coord_std)\n",
      "                \n",
      "def computePerformance(X, y, namesClasses, cv_folds=10):\n",
      "    # parameters for SVM model selection\n",
      "    kernel = ['rbf']\n",
      "    gamma_range = 10.0 ** np.arange(-4, 2)\n",
      "    C_range = 10.0 ** np.arange(0, 4)\n",
      "    params_grid = dict(kernel=kernel, gamma=gamma_range, C=C_range)\n",
      "    #print params_grid\n",
      "\n",
      "    # find optimal hyperparameters\n",
      "    svm_models = GridSearchCV(SVC(), param_grid=params_grid, n_jobs=-1).fit(X, y)\n",
      "    #for params, mean_score, scores in svm_models_2.grid_scores_:\n",
      "    #    print(\"%10.3f for %r\" % (mean_score, params))\n",
      "    best_c = svm_models.best_params_['C']\n",
      "    best_gamma = svm_models.best_params_['gamma']\n",
      "    print svm_models.best_params_\n",
      "\n",
      "    # compute overall accuracy\n",
      "    fit = SVC(kernel='rbf', C=best_c, gamma=best_gamma)\n",
      "    scores_all = cross_validation.cross_val_score(fit, X, y, cv=cv_folds, n_jobs=-1);\n",
      "    print \"Accuracy of all classes\"\n",
      "    print np.mean(scores_all)\n",
      "    \n",
      "    # compute CV accuracy per class\n",
      "    kf = KFold(y, n_folds=cv_folds)\n",
      "    y_pred = y * 0\n",
      "    for train, test in kf:\n",
      "        X_train, X_test, y_train, y_test = X[train,:], X[test,:], y[train], y[test]\n",
      "        model = SVC(kernel='rbf', C=best_c, gamma=best_gamma)\n",
      "        model.fit(X_train, y_train)\n",
      "        y_pred[test] = model.predict(X_test)\n",
      "    print classification_report(y, y_pred, target_names=namesClasses)"
     ],
     "language": "python",
     "metadata": {},
     "outputs": [],
     "prompt_number": 4
    },
    {
     "cell_type": "code",
     "collapsed": false,
     "input": [
      "# Rescale the images and create the combined metrics and training labels\n",
      "#get the total training images\n",
      "numberofImages = 0\n",
      "for folder in directory_names:\n",
      "    for fileNameDir in os.walk(folder):   \n",
      "        for fileName in fileNameDir[2]:\n",
      "             # Only read in the images\n",
      "            if fileName[-4:] != \".jpg\":\n",
      "              continue\n",
      "            numberofImages += 1\n",
      "\n",
      "# We'll rescale the images to be 25x25\n",
      "maxPixel = 25\n",
      "imageSize = maxPixel * maxPixel\n",
      "num_rows = numberofImages # one row for each image in the training dataset\n",
      "num_features = imageSize + 24 # for our ratio"
     ],
     "language": "python",
     "metadata": {},
     "outputs": [],
     "prompt_number": 12
    },
    {
     "cell_type": "code",
     "collapsed": false,
     "input": [
      "# X is the feature vector with one row of features per image\n",
      "# consisting of the pixel values and our metric\n",
      "X = np.zeros((num_rows, num_features), dtype=float)\n",
      "# y is the numeric class label \n",
      "y = np.zeros((num_rows))\n",
      "\n",
      "\n",
      "\n",
      "files = []\n",
      "# Generate training data\n",
      "i = 0    \n",
      "label = 0\n",
      "# List of string of class names\n",
      "namesClasses = list()\n",
      "\n",
      "# SIFT features\n",
      "sift_features = getFeaturesUsingSIFT(k = 12)\n",
      "# SURF features\n",
      "surf_features = getFeaturesUsingSURF(k = 12)\n",
      "# ORB features\n",
      "orb_features = getFeaturesUsingORB(k = 12)\n",
      "\n",
      "\n",
      "\n",
      "print \"Reading images and compute features\"\n",
      "# Navigate through the list of directories\n",
      "for folder in directory_names:\n",
      "    #print folder\n",
      "    # Append the string class name for each class\n",
      "    currentClass = folder.split(os.pathsep)[-1]\n",
      "    namesClasses.append(currentClass)\n",
      "    for fileNameDir in os.walk(folder):   \n",
      "        for fileName in fileNameDir[2]:\n",
      "            # Only read in the images\n",
      "            if fileName[-4:] != \".jpg\":\n",
      "              continue\n",
      "            \n",
      "            # Read in the images and create the features\n",
      "            nameFileImage = \"{0}{1}{2}\".format(fileNameDir[0], os.sep, fileName)            \n",
      "            image = imread(nameFileImage, as_grey=True)\n",
      "            no_of_corners, corners_x_coord_std, corners_y_coord_std = getCornerFeatures(image, nameFileImage, showimage=False)\n",
      "            \n",
      "\n",
      "            files.append(nameFileImage)\n",
      "            image = resize(image, (maxPixel, maxPixel))\n",
      "            \n",
      "            # store the rescaled image pixels and the axis ratio\n",
      "            X[i, 0:imageSize] = np.reshape(image, (1, imageSize))\n",
      "            \n",
      "            # global features\n",
      "            compactness, area, perimeter, axisratio, moments = getGlobalFeatures(image)\n",
      "            X[i, imageSize] = compactness\n",
      "            X[i, imageSize+1] = area #filled area\n",
      "            X[i, imageSize+2] = perimeter\n",
      "            X[i, imageSize+3] = axisratio\n",
      "            \n",
      "            # corner features\n",
      "            X[i, imageSize+4] = no_of_corners\n",
      "            #X[i, imageSize+5] = corners_x_coord_std\n",
      "            #X[i, imageSize+6] = corners_y_coord_std \n",
      "            #moments\n",
      "            X[i, imageSize+5] = moments[0]\n",
      "            X[i, imageSize+6] = moments[1]\n",
      "            X[i, imageSize+7] = moments[2]\n",
      "            X[i, imageSize+8] = moments[3]\n",
      "            X[i, imageSize+9] = moments[4]\n",
      "            X[i, imageSize+10] = moments[5]\n",
      "            X[i, imageSize+11] = moments[6]\n",
      "            # adding SIFT features         \n",
      "            X[i, imageSize+12:imageSize+24] = sift_features[i,]\n",
      "            \n",
      "            # adding SURF features    \n",
      "            #X[i, imageSize+25:imageSize+37] = surf_features[i,]\n",
      "            \n",
      "            # adding ORB features      \n",
      "            #X[i, imageSize+37:imageSize+49] = orb_features[i,]\n",
      "            \n",
      "            # Store the classlabel\n",
      "            y[i] = label\n",
      "            i += 1\n",
      "            # report progress for each 5% done  \n",
      "            report = [int((j+1)*num_rows/20.) for j in range(20)]\n",
      "            if i in report: print np.ceil(i *100.0 / num_rows), \"% done\"\n",
      "    label += 1\n"
     ],
     "language": "python",
     "metadata": {},
     "outputs": [
      {
       "output_type": "stream",
       "stream": "stdout",
       "text": [
        "Reading images and compute features\n",
        "5.0"
       ]
      },
      {
       "output_type": "stream",
       "stream": "stdout",
       "text": [
        " % done\n",
        "10.0"
       ]
      },
      {
       "output_type": "stream",
       "stream": "stdout",
       "text": [
        " % done\n",
        "15.0"
       ]
      },
      {
       "output_type": "stream",
       "stream": "stdout",
       "text": [
        " % done\n",
        "20.0"
       ]
      },
      {
       "output_type": "stream",
       "stream": "stdout",
       "text": [
        " % done\n",
        "25.0"
       ]
      },
      {
       "output_type": "stream",
       "stream": "stdout",
       "text": [
        " % done\n",
        "30.0"
       ]
      },
      {
       "output_type": "stream",
       "stream": "stdout",
       "text": [
        " % done\n",
        "35.0"
       ]
      },
      {
       "output_type": "stream",
       "stream": "stdout",
       "text": [
        " % done\n",
        "40.0"
       ]
      },
      {
       "output_type": "stream",
       "stream": "stdout",
       "text": [
        " % done\n",
        "45.0"
       ]
      },
      {
       "output_type": "stream",
       "stream": "stdout",
       "text": [
        " % done\n",
        "50.0"
       ]
      },
      {
       "output_type": "stream",
       "stream": "stdout",
       "text": [
        " % done\n",
        "55.0"
       ]
      },
      {
       "output_type": "stream",
       "stream": "stdout",
       "text": [
        " % done\n",
        "60.0"
       ]
      },
      {
       "output_type": "stream",
       "stream": "stdout",
       "text": [
        " % done\n",
        "65.0"
       ]
      },
      {
       "output_type": "stream",
       "stream": "stdout",
       "text": [
        " % done\n",
        "70.0"
       ]
      },
      {
       "output_type": "stream",
       "stream": "stdout",
       "text": [
        " % done\n",
        "75.0"
       ]
      },
      {
       "output_type": "stream",
       "stream": "stdout",
       "text": [
        " % done\n",
        "80.0"
       ]
      },
      {
       "output_type": "stream",
       "stream": "stdout",
       "text": [
        " % done\n",
        "85.0"
       ]
      },
      {
       "output_type": "stream",
       "stream": "stdout",
       "text": [
        " % done\n",
        "90.0"
       ]
      },
      {
       "output_type": "stream",
       "stream": "stdout",
       "text": [
        " % done\n",
        "95.0"
       ]
      },
      {
       "output_type": "stream",
       "stream": "stdout",
       "text": [
        " % done\n",
        "100.0"
       ]
      },
      {
       "output_type": "stream",
       "stream": "stdout",
       "text": [
        " % done\n"
       ]
      }
     ],
     "prompt_number": 18
    },
    {
     "cell_type": "heading",
     "level": 2,
     "metadata": {},
     "source": [
      "Classification performance using raw pixel of image as features"
     ]
    },
    {
     "cell_type": "code",
     "collapsed": false,
     "input": [
      "computePerformance(X[:,0:imageSize], y, namesClasses)"
     ],
     "language": "python",
     "metadata": {},
     "outputs": [
      {
       "output_type": "stream",
       "stream": "stdout",
       "text": [
        "{'kernel': 'rbf', 'C': 10.0, 'gamma': 0.10000000000000001}\n",
        "Accuracy of all classes"
       ]
      },
      {
       "output_type": "stream",
       "stream": "stdout",
       "text": [
        "\n",
        "0.778162308715\n",
        "                                          precision    recall  f1-score   support\n",
        "\n",
        "           Data\\train\\acantharia_protist       0.91      0.96      0.93       889\n",
        "Data\\train\\acantharia_protist_big_center       0.00      0.00      0.00        13\n",
        "      Data\\train\\acantharia_protist_halo       0.72      0.46      0.56        71\n",
        "                    Data\\train\\amphipods       0.97      0.61      0.75        49\n",
        "Data\\train\\appendicularian_fritillaridae       0.25      0.06      0.10        16\n",
        "      Data\\train\\appendicularian_s_shape       0.73      0.76      0.74       696\n",
        " Data\\train\\appendicularian_slight_curve       0.61      0.62      0.61       532\n",
        "     Data\\train\\appendicularian_straight       0.60      0.49      0.54       242\n",
        "                    Data\\train\\artifacts       0.88      0.90      0.89       393\n",
        "               Data\\train\\artifacts_edge       0.77      0.84      0.80       170\n",
        "\n",
        "                             avg / total       0.77      0.78      0.77      3071\n"
       ]
      },
      {
       "output_type": "stream",
       "stream": "stdout",
       "text": [
        "\n"
       ]
      }
     ],
     "prompt_number": 14
    },
    {
     "cell_type": "heading",
     "level": 2,
     "metadata": {},
     "source": [
      "Classification using global features: compactness, filled area, perimeter, axis ratio"
     ]
    },
    {
     "cell_type": "code",
     "collapsed": false,
     "input": [
      "computePerformance(X[:,imageSize:imageSize+4], y, namesClasses)"
     ],
     "language": "python",
     "metadata": {},
     "outputs": [
      {
       "output_type": "stream",
       "stream": "stdout",
       "text": [
        "{'kernel': 'rbf', 'C': 1000.0, 'gamma': 0.001}\n",
        "Accuracy of all classes"
       ]
      },
      {
       "output_type": "stream",
       "stream": "stdout",
       "text": [
        "\n",
        "0.606285467296\n",
        "                                          precision    recall  f1-score   support\n",
        "\n",
        "           Data\\train\\acantharia_protist       0.84      0.86      0.85       889\n",
        "Data\\train\\acantharia_protist_big_center       0.00      0.00      0.00        13\n",
        "      Data\\train\\acantharia_protist_halo       0.14      0.01      0.03        71\n",
        "                    Data\\train\\amphipods       0.63      0.55      0.59        49\n",
        "Data\\train\\appendicularian_fritillaridae       1.00      0.06      0.12        16\n",
        "      Data\\train\\appendicularian_s_shape       0.45      0.70      0.55       696\n",
        " Data\\train\\appendicularian_slight_curve       0.33      0.25      0.28       532\n",
        "     Data\\train\\appendicularian_straight       0.47      0.06      0.11       242\n",
        "                    Data\\train\\artifacts       0.73      0.70      0.72       393\n",
        "               Data\\train\\artifacts_edge       0.79      0.89      0.83       170\n",
        "\n",
        "                             avg / total       0.59      0.61      0.58      3071\n"
       ]
      },
      {
       "output_type": "stream",
       "stream": "stdout",
       "text": [
        "\n"
       ]
      }
     ],
     "prompt_number": 26
    },
    {
     "cell_type": "heading",
     "level": 2,
     "metadata": {},
     "source": [
      "Classification using local features : SIFT"
     ]
    },
    {
     "cell_type": "code",
     "collapsed": false,
     "input": [
      "computePerformance(X[:,imageSize+11:imageSize+23], y, namesClasses)"
     ],
     "language": "python",
     "metadata": {},
     "outputs": [
      {
       "output_type": "stream",
       "stream": "stdout",
       "text": [
        "{'kernel': 'rbf', 'C': 100.0, 'gamma': 0.01}\n",
        "Accuracy of all classes"
       ]
      },
      {
       "output_type": "stream",
       "stream": "stdout",
       "text": [
        "\n",
        "0.646000023622\n",
        "                                          precision    recall  f1-score   support\n",
        "\n",
        "           Data\\train\\acantharia_protist       0.75      0.93      0.83       889\n",
        "Data\\train\\acantharia_protist_big_center       0.57      0.31      0.40        13\n",
        "      Data\\train\\acantharia_protist_halo       0.63      0.24      0.35        71\n",
        "                    Data\\train\\amphipods       0.52      0.51      0.52        49\n",
        "Data\\train\\appendicularian_fritillaridae       0.00      0.00      0.00        16\n",
        "      Data\\train\\appendicularian_s_shape       0.66      0.72      0.69       696\n",
        " Data\\train\\appendicularian_slight_curve       0.47      0.40      0.43       532\n",
        "     Data\\train\\appendicularian_straight       0.51      0.26      0.35       242\n",
        "                    Data\\train\\artifacts       0.52      0.56      0.54       393\n",
        "               Data\\train\\artifacts_edge       0.85      0.66      0.75       170\n",
        "\n",
        "                             avg / total       0.63      0.65      0.63      3071\n"
       ]
      },
      {
       "output_type": "stream",
       "stream": "stdout",
       "text": [
        "\n"
       ]
      }
     ],
     "prompt_number": 25
    },
    {
     "cell_type": "heading",
     "level": 2,
     "metadata": {},
     "source": [
      "Classification using raw + SIFT"
     ]
    },
    {
     "cell_type": "code",
     "collapsed": false,
     "input": [
      "X_saw_sift = np.zeros([X.shape[0],imageSize+12])\n",
      "X_saw_sift[:,0:625]=X[:,0:625]\n",
      "X_saw_sift[:,625:637]=X[:,imageSize+11:imageSize+23]\n",
      "\n",
      "computePerformance(X_saw_sift, y, namesClasses)"
     ],
     "language": "python",
     "metadata": {},
     "outputs": [
      {
       "output_type": "stream",
       "stream": "stdout",
       "text": [
        "{'kernel': 'rbf', 'C': 10.0, 'gamma': 0.01}\n",
        "Accuracy of all classes"
       ]
      },
      {
       "output_type": "stream",
       "stream": "stdout",
       "text": [
        "\n",
        "0.778521135023\n",
        "                                          precision    recall  f1-score   support\n",
        "\n",
        "           Data\\train\\acantharia_protist       0.83      0.96      0.89       889\n",
        "Data\\train\\acantharia_protist_big_center       0.50      0.23      0.32        13\n",
        "      Data\\train\\acantharia_protist_halo       0.75      0.25      0.38        71\n",
        "                    Data\\train\\amphipods       0.84      0.86      0.85        49\n",
        "Data\\train\\appendicularian_fritillaridae       0.00      0.00      0.00        16\n",
        "      Data\\train\\appendicularian_s_shape       0.75      0.80      0.77       696\n",
        " Data\\train\\appendicularian_slight_curve       0.65      0.61      0.63       532\n",
        "     Data\\train\\appendicularian_straight       0.64      0.55      0.59       242\n",
        "                    Data\\train\\artifacts       0.88      0.85      0.86       393\n",
        "               Data\\train\\artifacts_edge       0.97      0.74      0.84       170\n",
        "\n",
        "                             avg / total       0.77      0.78      0.77      3071\n"
       ]
      },
      {
       "output_type": "stream",
       "stream": "stdout",
       "text": [
        "\n"
       ]
      },
      {
       "output_type": "stream",
       "stream": "stderr",
       "text": [
        "C:\\Python27\\lib\\site-packages\\sklearn\\metrics\\metrics.py:1771: UndefinedMetricWarning: Precision and F-score are ill-defined and being set to 0.0 in labels with no predicted samples.\n",
        "  'precision', 'predicted', average, warn_for)\n"
       ]
      }
     ],
     "prompt_number": 7
    },
    {
     "cell_type": "heading",
     "level": 2,
     "metadata": {},
     "source": [
      "C+G+M+sift"
     ]
    },
    {
     "cell_type": "code",
     "collapsed": false,
     "input": [
      "computePerformance(X[:,imageSize:imageSize+24], y, namesClasses)"
     ],
     "language": "python",
     "metadata": {},
     "outputs": [
      {
       "output_type": "stream",
       "stream": "stdout",
       "text": [
        "{'kernel': 'rbf', 'C': 1000.0, 'gamma': 0.0001}\n",
        "Accuracy of all classes"
       ]
      },
      {
       "output_type": "stream",
       "stream": "stdout",
       "text": [
        "\n",
        "0.760305321752\n",
        "                                          precision    recall  f1-score   support\n",
        "\n",
        "           Data\\train\\acantharia_protist       0.86      0.94      0.90       889\n",
        "Data\\train\\acantharia_protist_big_center       0.54      0.54      0.54        13\n",
        "      Data\\train\\acantharia_protist_halo       0.78      0.54      0.63        71\n",
        "                    Data\\train\\amphipods       0.68      0.73      0.71        49\n",
        "Data\\train\\appendicularian_fritillaridae       0.00      0.00      0.00        16\n",
        "      Data\\train\\appendicularian_s_shape       0.72      0.74      0.73       696\n",
        " Data\\train\\appendicularian_slight_curve       0.53      0.56      0.55       532\n",
        "     Data\\train\\appendicularian_straight       0.65      0.38      0.48       242\n",
        "                    Data\\train\\artifacts       0.89      0.87      0.88       393\n",
        "               Data\\train\\artifacts_edge       0.96      0.96      0.96       170\n",
        "\n",
        "                             avg / total       0.75      0.76      0.75      3071\n"
       ]
      },
      {
       "output_type": "stream",
       "stream": "stdout",
       "text": [
        "\n"
       ]
      }
     ],
     "prompt_number": 19
    },
    {
     "cell_type": "heading",
     "level": 2,
     "metadata": {},
     "source": [
      "PCA on Raw pixels"
     ]
    },
    {
     "cell_type": "code",
     "collapsed": false,
     "input": [
      "from sklearn.decomposition import PCA as sklearnPCA\n",
      "sklearn_pca = sklearnPCA(50)\n",
      "X_wPCA = sklearn_pca.fit_transform(X[:,0:imageSize])"
     ],
     "language": "python",
     "metadata": {},
     "outputs": [],
     "prompt_number": 9
    },
    {
     "cell_type": "heading",
     "level": 2,
     "metadata": {},
     "source": [
      "PCA + SIFT"
     ]
    },
    {
     "cell_type": "code",
     "collapsed": false,
     "input": [
      "X_saw_sift = np.zeros([X.shape[0],50+12])\n",
      "X_saw_sift[:,0:50]=X_wPCA\n",
      "X_saw_sift[:,50:62]=X[:,50+11:50+23]\n",
      "\n",
      "computePerformance(X_saw_sift, y, namesClasses)"
     ],
     "language": "python",
     "metadata": {},
     "outputs": [
      {
       "output_type": "stream",
       "stream": "stdout",
       "text": [
        "{'kernel': 'rbf', 'C': 10.0, 'gamma': 0.10000000000000001}\n",
        "Accuracy of all classes"
       ]
      },
      {
       "output_type": "stream",
       "stream": "stdout",
       "text": [
        "\n",
        "0.780064604645\n",
        "                                          precision    recall  f1-score   support\n",
        "\n",
        "           Data\\train\\acantharia_protist       0.89      0.95      0.92       889\n",
        "Data\\train\\acantharia_protist_big_center       0.00      0.00      0.00        13\n",
        "      Data\\train\\acantharia_protist_halo       0.84      0.52      0.64        71\n",
        "                    Data\\train\\amphipods       0.95      0.82      0.88        49\n",
        "Data\\train\\appendicularian_fritillaridae       0.00      0.00      0.00        16\n",
        "      Data\\train\\appendicularian_s_shape       0.77      0.78      0.77       696\n",
        " Data\\train\\appendicularian_slight_curve       0.63      0.65      0.64       532\n",
        "     Data\\train\\appendicularian_straight       0.59      0.49      0.54       242\n",
        "                    Data\\train\\artifacts       0.82      0.92      0.87       393\n",
        "               Data\\train\\artifacts_edge       0.83      0.61      0.70       170\n",
        "\n",
        "                             avg / total       0.77      0.78      0.77      3071\n"
       ]
      },
      {
       "output_type": "stream",
       "stream": "stdout",
       "text": [
        "\n"
       ]
      }
     ],
     "prompt_number": 11
    },
    {
     "cell_type": "code",
     "collapsed": false,
     "input": [
      "PCA + global"
     ],
     "language": "python",
     "metadata": {},
     "outputs": []
    },
    {
     "cell_type": "code",
     "collapsed": false,
     "input": [],
     "language": "python",
     "metadata": {},
     "outputs": []
    },
    {
     "cell_type": "heading",
     "level": 2,
     "metadata": {},
     "source": [
      "just PCA on Raw"
     ]
    },
    {
     "cell_type": "code",
     "collapsed": false,
     "input": [
      "computePerformance(X_wPCA, y, namesClasses)"
     ],
     "language": "python",
     "metadata": {},
     "outputs": [
      {
       "output_type": "stream",
       "stream": "stdout",
       "text": [
        "{'kernel': 'rbf', 'C': 10.0, 'gamma': 0.10000000000000001}\n",
        "Accuracy of all classes"
       ]
      },
      {
       "output_type": "stream",
       "stream": "stdout",
       "text": [
        "\n",
        "0.780682243236\n",
        "                                          precision    recall  f1-score   support\n",
        "\n",
        "           Data\\train\\acantharia_protist       0.89      0.95      0.92       889\n",
        "Data\\train\\acantharia_protist_big_center       0.00      0.00      0.00        13\n",
        "      Data\\train\\acantharia_protist_halo       0.82      0.51      0.63        71\n",
        "                    Data\\train\\amphipods       0.95      0.82      0.88        49\n",
        "Data\\train\\appendicularian_fritillaridae       0.00      0.00      0.00        16\n",
        "      Data\\train\\appendicularian_s_shape       0.77      0.78      0.77       696\n",
        " Data\\train\\appendicularian_slight_curve       0.63      0.65      0.64       532\n",
        "     Data\\train\\appendicularian_straight       0.59      0.50      0.54       242\n",
        "                    Data\\train\\artifacts       0.82      0.92      0.86       393\n",
        "               Data\\train\\artifacts_edge       0.82      0.63      0.71       170\n",
        "\n",
        "                             avg / total       0.77      0.78      0.77      3071\n"
       ]
      },
      {
       "output_type": "stream",
       "stream": "stdout",
       "text": [
        "\n"
       ]
      }
     ],
     "prompt_number": 10
    },
    {
     "cell_type": "heading",
     "level": 2,
     "metadata": {},
     "source": [
      "PCA on Raw+C+G+M+sift"
     ]
    },
    {
     "cell_type": "code",
     "collapsed": false,
     "input": [
      "X_new=np.zeros([X.shape[0],X_wPCA.shape[1]+24])"
     ],
     "language": "python",
     "metadata": {},
     "outputs": [],
     "prompt_number": 20
    },
    {
     "cell_type": "code",
     "collapsed": false,
     "input": [
      "X_new[:,0:50]=X_wPCA\n",
      "X_new[:,50:]=X[:,imageSize:imageSize+24]"
     ],
     "language": "python",
     "metadata": {},
     "outputs": [],
     "prompt_number": 21
    },
    {
     "cell_type": "code",
     "collapsed": false,
     "input": [
      "print X[:,imageSize:imageSize+24].shape"
     ],
     "language": "python",
     "metadata": {},
     "outputs": [
      {
       "output_type": "stream",
       "stream": "stdout",
       "text": [
        "(3071, 24)\n"
       ]
      }
     ],
     "prompt_number": 17
    },
    {
     "cell_type": "code",
     "collapsed": false,
     "input": [
      "computePerformance(X_new, y, namesClasses)"
     ],
     "language": "python",
     "metadata": {},
     "outputs": [
      {
       "output_type": "stream",
       "stream": "stdout",
       "text": [
        "{'kernel': 'rbf', 'C': 1000.0, 'gamma': 0.0001}\n",
        "Accuracy of all classes"
       ]
      },
      {
       "output_type": "stream",
       "stream": "stdout",
       "text": [
        "\n",
        "0.820213525365\n",
        "                                          precision    recall  f1-score   support\n",
        "\n",
        "           Data\\train\\acantharia_protist       0.92      0.97      0.94       889\n",
        "Data\\train\\acantharia_protist_big_center       0.62      0.38      0.48        13\n",
        "      Data\\train\\acantharia_protist_halo       0.81      0.68      0.74        71\n",
        "                    Data\\train\\amphipods       0.85      0.82      0.83        49\n",
        "Data\\train\\appendicularian_fritillaridae       0.00      0.00      0.00        16\n",
        "      Data\\train\\appendicularian_s_shape       0.76      0.79      0.77       696\n",
        " Data\\train\\appendicularian_slight_curve       0.65      0.66      0.65       532\n",
        "     Data\\train\\appendicularian_straight       0.68      0.57      0.62       242\n",
        "                    Data\\train\\artifacts       0.94      0.93      0.93       393\n",
        "               Data\\train\\artifacts_edge       0.97      0.96      0.96       170\n",
        "\n",
        "                             avg / total       0.81      0.82      0.82      3071\n"
       ]
      },
      {
       "output_type": "stream",
       "stream": "stdout",
       "text": [
        "\n"
       ]
      }
     ],
     "prompt_number": 22
    },
    {
     "cell_type": "code",
     "collapsed": false,
     "input": [],
     "language": "python",
     "metadata": {},
     "outputs": []
    },
    {
     "cell_type": "code",
     "collapsed": false,
     "input": [],
     "language": "python",
     "metadata": {},
     "outputs": []
    },
    {
     "cell_type": "code",
     "collapsed": false,
     "input": [
      "computePerformance(X, y, namesClasses)"
     ],
     "language": "python",
     "metadata": {},
     "outputs": [
      {
       "output_type": "stream",
       "stream": "stdout",
       "text": [
        "{'kernel': 'rbf', 'C': 1000.0, 'gamma': 0.0001}\n",
        "Accuracy of all classes"
       ]
      },
      {
       "output_type": "stream",
       "stream": "stdout",
       "text": [
        "\n",
        "0.813380913285\n",
        "                                          precision    recall  f1-score   support\n",
        "\n",
        "           Data\\train\\acantharia_protist       0.92      0.97      0.94       889\n",
        "Data\\train\\acantharia_protist_big_center       0.62      0.38      0.48        13\n",
        "      Data\\train\\acantharia_protist_halo       0.81      0.68      0.74        71\n",
        "                    Data\\train\\amphipods       0.81      0.80      0.80        49\n",
        "Data\\train\\appendicularian_fritillaridae       0.00      0.00      0.00        16\n",
        "      Data\\train\\appendicularian_s_shape       0.75      0.78      0.76       696\n",
        " Data\\train\\appendicularian_slight_curve       0.64      0.64      0.64       532\n",
        "     Data\\train\\appendicularian_straight       0.67      0.58      0.62       242\n",
        "                    Data\\train\\artifacts       0.94      0.93      0.93       393\n",
        "               Data\\train\\artifacts_edge       0.98      0.96      0.97       170\n",
        "\n",
        "                             avg / total       0.81      0.81      0.81      3071\n"
       ]
      },
      {
       "output_type": "stream",
       "stream": "stdout",
       "text": [
        "\n"
       ]
      }
     ],
     "prompt_number": 23
    },
    {
     "cell_type": "code",
     "collapsed": false,
     "input": [],
     "language": "python",
     "metadata": {},
     "outputs": []
    }
   ],
   "metadata": {}
  }
 ]
}