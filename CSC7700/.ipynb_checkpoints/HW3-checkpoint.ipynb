{
 "cells": [
  {
   "cell_type": "markdown",
   "metadata": {},
   "source": [
    "# CSC7700 Homework 3"
   ]
  },
  {
   "cell_type": "markdown",
   "metadata": {},
   "source": [
    "### Due Apr 21st"
   ]
  },
  {
   "cell_type": "markdown",
   "metadata": {},
   "source": [
    "### Submit a notebook with code, plot and discussion"
   ]
  },
  {
   "cell_type": "code",
   "execution_count": 1,
   "metadata": {
    "collapsed": false
   },
   "outputs": [],
   "source": [
    "%matplotlib inline\n",
    "from pylab import *"
   ]
  },
  {
   "cell_type": "markdown",
   "metadata": {},
   "source": [
    "### Run the follow code to download data"
   ]
  },
  {
   "cell_type": "markdown",
   "metadata": {},
   "source": [
    "(see data information at: http://mldata.org/repository/data/viewslug/translation-initiation-site-pred/)"
   ]
  },
  {
   "cell_type": "markdown",
   "metadata": {},
   "source": [
    "### You need to change the 'data_home' location to a directory of your choice"
   ]
  },
  {
   "cell_type": "code",
   "execution_count": 2,
   "metadata": {
    "collapsed": false
   },
   "outputs": [],
   "source": [
    "import numpy as np\n",
    "from sklearn.datasets import fetch_mldata\n",
    "\n",
    "data = fetch_mldata('Translation Initiation Site Pred', data_home='/Users/nhonaitran/git/datamining/CSC7700/data')\n",
    "\n",
    "X = data.target.T\n",
    "y = [int(x[0][0] == u'Y') for x in data.data]\n"
   ]
  },
  {
   "cell_type": "code",
   "execution_count": 3,
   "metadata": {
    "collapsed": false
   },
   "outputs": [
    {
     "data": {
      "text/plain": [
       "array([1, 1, 1, ..., 1, 0, 1])"
      ]
     },
     "execution_count": 3,
     "metadata": {},
     "output_type": "execute_result"
    }
   ],
   "source": [
    "y = np.asarray(y)\n",
    "y"
   ]
  },
  {
   "cell_type": "code",
   "execution_count": 4,
   "metadata": {
    "collapsed": false
   },
   "outputs": [
    {
     "name": "stdout",
     "output_type": "stream",
     "text": [
      "{'Y', 'N'}\n",
      "{<class 'numpy.int32'>}\n"
     ]
    }
   ],
   "source": [
    "print(set([str(x[0][0]) for x in data.data]))\n",
    "print(set([type(i) for i in data.target[:, 0]]))"
   ]
  },
  {
   "cell_type": "markdown",
   "metadata": {},
   "source": [
    "## Task"
   ]
  },
  {
   "cell_type": "markdown",
   "metadata": {},
   "source": [
    "A boosting ensemble is constructed in an additive way: at each iteration, a model is added to the ensemble to reduce its training error. As we disccussed in class, training error and test error are diffierent and the latter is more critical for a model.\n",
    "\n",
    "Use the above dataset, investigate the trends of training error and testing error with respect to number of iterations used for boosting. Use 10-fold cross validation to obtain testing error. Plot training error and testing error vs number of iterations in one plot and give a short discussion on your observation.\n",
    "\n",
    "(Example below shows training error only.)"
   ]
  },
  {
   "cell_type": "code",
   "execution_count": 14,
   "metadata": {
    "collapsed": false
   },
   "outputs": [],
   "source": [
    "from sklearn.ensemble import GradientBoostingClassifier\n",
    "from sklearn.cross_validation import KFold\n",
    "folds = 10\n",
    "cv = KFold(n=X.shape[0], n_folds=folds)\n",
    "\n",
    "t = range(1, 30, 2)\n",
    "train_error = np.zeros((len(t),))\n",
    "test_error = np.zeros((len(t),))\n",
    "for i, num_iter in enumerate(t):\n",
    "    clf = GradientBoostingClassifier(n_estimators=num_iter)\n",
    "    train_error[i] = 1 - clf.fit(X, y).score(X, y)\n",
    "    \n",
    "    cv_error = np.zeros(folds)\n",
    "    j = 0\n",
    "    for train_index, test_index in cv:\n",
    "        X_train, X_test = X[train_index], X[test_index]\n",
    "        y_train, y_test = y[train_index], y[test_index]\n",
    "        cv_error[j] = (1 - clf.fit(X_train, y_train).score(X_test, y_test))\n",
    "        j += 1\n",
    "    test_error[i] = cv_error.mean()    "
   ]
  },
  {
   "cell_type": "code",
   "execution_count": 15,
   "metadata": {
    "collapsed": false
   },
   "outputs": [
    {
     "data": {
      "text/plain": [
       "<matplotlib.legend.Legend at 0x11f16ffd0>"
      ]
     },
     "execution_count": 15,
     "metadata": {},
     "output_type": "execute_result"
    },
    {
     "data": {
      "image/png": "[encoded data removed]",
      "text/plain": [
       "<matplotlib.figure.Figure at 0x11f124048>"
      ]
     },
     "metadata": {},
     "output_type": "display_data"
    }
   ],
   "source": [
    "plot(t, train_error, 'b', label='train')\n",
    "plot(t, test_error, 'r', label='test')\n",
    "legend()"
   ]
  },
  {
   "cell_type": "markdown",
   "metadata": {},
   "source": [
    "While training error appeared to decrease as the number of boosting iterations increases, cross-validation test error decreased initially but hovered around the 0.32 mark.  Thus, using training error to decide the optimal number of iterations would lead to way too many unnecessary iterations.  Cross validation test errror showed that the optimal number of iterations should be set between 10-15, rather than closed to 30 or more if based on training error.   "
   ]
  },
  {
   "cell_type": "code",
   "execution_count": null,
   "metadata": {
    "collapsed": true
   },
   "outputs": [],
   "source": []
  }
 ],
 "metadata": {
  "kernelspec": {
   "display_name": "Python 3",
   "language": "python",
   "name": "python3"
  },
  "language_info": {
   "codemirror_mode": {
    "name": "ipython",
    "version": 3
   },
   "file_extension": ".py",
   "mimetype": "text/x-python",
   "name": "python",
   "nbconvert_exporter": "python",
   "pygments_lexer": "ipython3",
   "version": "3.4.3"
  }
 },
 "nbformat": 4,
 "nbformat_minor": 0
}
