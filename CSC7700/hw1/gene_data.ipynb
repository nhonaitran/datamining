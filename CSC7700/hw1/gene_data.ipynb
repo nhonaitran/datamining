{
 "metadata": {
  "name": "",
  "signature": "sha256:19cc278e65af162ffb44ba54b7cb6583db8326ded87a36ccb17b0d2fbb9b1a13"
 },
 "nbformat": 3,
 "nbformat_minor": 0,
 "worksheets": [
  {
   "cells": [
    {
     "cell_type": "markdown",
     "metadata": {},
     "source": [
      "# CSC7700 HomeWork 1\n",
      "\n",
      "\n",
      "### Due Feb. 19th, by end of day. \n",
      "\n",
      "### Do all your work in this notebook and submit your notebook "
     ]
    },
    {
     "cell_type": "code",
     "collapsed": false,
     "input": [
      "from collections import Counter\n",
      "import pandas as pd\n",
      "import numpy as np\n",
      "import matplotlib.pyplot as plt\n",
      "\n",
      "from sklearn.linear_model import LogisticRegression\n",
      "from sklearn.tree import DecisionTreeClassifier\n",
      "from sklearn import svm, datasets\n",
      "from sklearn.svm import SVC\n",
      "from sklearn.svm import l1_min_c\n",
      "from sklearn.grid_search import GridSearchCV\n",
      "\n",
      "from sklearn.cross_validation import train_test_split, cross_val_score, StratifiedKFold\n",
      "from sklearn import metrics\n",
      "from sklearn import preprocessing"
     ],
     "language": "python",
     "metadata": {},
     "outputs": [],
     "prompt_number": 280
    },
    {
     "cell_type": "code",
     "collapsed": false,
     "input": [
      "# import Orange\n",
      "\n",
      "# def column2df(col):\n",
      "#     if type(col.domain[0]) is Orange.feature.Continuous:\n",
      "#         return (col.domain[0].name, pd.Series(col.to_numpy()[0].flatten()))\n",
      "#     else:\n",
      "#         tmp = pd.Series(np.array(list(col)).flatten())  \n",
      "#         tmp = tmp.apply(lambda x: str(x[0]))\n",
      "#         return (col.domain[0].name, tmp)\n",
      "\n",
      "# def table2df(tab):\n",
      "#     series = [column2df(tab.select(i)) for i in xrange(len(tab.domain))]\n",
      "#     series_name = [i[0] for i in series]  \n",
      "#     series_data = dict(series)\n",
      "#     return pd.DataFrame(series_data, columns=series_name)"
     ],
     "language": "python",
     "metadata": {},
     "outputs": [],
     "prompt_number": 212
    },
    {
     "cell_type": "markdown",
     "metadata": {},
     "source": [
      "## Lung Cancer Dataset\n",
      "\n",
      "The dataset contains gene expressions for four different lung tumors (adenocarcinomas, small-cell lung carcinomas, squamous cell carcinomas and carcinoids) and normal lung tissue.\n",
      "\n",
      "Platform: Affymetrix Human Genome U95Av2 Array\n",
      "\n",
      "Diagnostic classes:\n",
      "    - adenocarcinoma (AD): 139 examples (68.5%)\n",
      "    - normal lung (NL): 17 examples (8.4%)\n",
      "    - small cell lung cancer (SMCL): 6 examples (3.0%)\n",
      "    - squamous cell carcinoma (SQ): 21 examples (10.3%)\n",
      "    - pulmonary carcinoid (COID): 20 examples (9.9%)\n",
      "\n",
      "Number of genes: 12600 <br>\n",
      "Number of samples: 203"
     ]
    },
    {
     "cell_type": "code",
     "collapsed": false,
     "input": [
      "#data1 = Orange.data.Table('lung.tab')\n",
      "#data1 = table2df(data1)\n",
      "#data1.to_pickle('lung.df')\n",
      "\n",
      "lung_df = pd.read_pickle('lung.df')"
     ],
     "language": "python",
     "metadata": {},
     "outputs": [],
     "prompt_number": 213
    },
    {
     "cell_type": "code",
     "collapsed": false,
     "input": [
      "lung_df.head()"
     ],
     "language": "python",
     "metadata": {},
     "outputs": [
      {
       "html": [
        "<div style=\"max-height:1000px;max-width:1500px;overflow:auto;\">\n",
        "<table border=\"1\" class=\"dataframe\">\n",
        "  <thead>\n",
        "    <tr style=\"text-align: right;\">\n",
        "      <th></th>\n",
        "      <th>38691_s_at</th>\n",
        "      <th>37864_s_at</th>\n",
        "      <th>33273_f_at</th>\n",
        "      <th>33274_f_at</th>\n",
        "      <th>33501_r_at</th>\n",
        "      <th>33500_i_at</th>\n",
        "      <th>33499_s_at</th>\n",
        "      <th>41164_at</th>\n",
        "      <th>38194_s_at</th>\n",
        "      <th>37004_at</th>\n",
        "      <th>...</th>\n",
        "      <th>32086_at</th>\n",
        "      <th>33886_at</th>\n",
        "      <th>31781_at</th>\n",
        "      <th>AFFX-BioC-3_at</th>\n",
        "      <th>41422_at</th>\n",
        "      <th>39964_at</th>\n",
        "      <th>36120_at</th>\n",
        "      <th>40571_at</th>\n",
        "      <th>36312_at</th>\n",
        "      <th>class</th>\n",
        "    </tr>\n",
        "  </thead>\n",
        "  <tbody>\n",
        "    <tr>\n",
        "      <th>0</th>\n",
        "      <td>   63.200001</td>\n",
        "      <td> 4196.250000</td>\n",
        "      <td> 3306.350098</td>\n",
        "      <td> 3330.860107</td>\n",
        "      <td> 1609.469971</td>\n",
        "      <td> 1597.319946</td>\n",
        "      <td> 1233.890015</td>\n",
        "      <td>  255.139999</td>\n",
        "      <td> 3036.530029</td>\n",
        "      <td>    8.920000</td>\n",
        "      <td>...</td>\n",
        "      <td> 18.629999</td>\n",
        "      <td> 51.040001</td>\n",
        "      <td>-13.740</td>\n",
        "      <td>-29.120001</td>\n",
        "      <td>-28.309999</td>\n",
        "      <td> 20.250000</td>\n",
        "      <td> 28.350000</td>\n",
        "      <td>  4.060</td>\n",
        "      <td>-19.41</td>\n",
        "      <td> AD</td>\n",
        "    </tr>\n",
        "    <tr>\n",
        "      <th>1</th>\n",
        "      <td>  965.469971</td>\n",
        "      <td> 6207.609863</td>\n",
        "      <td> 7077.040039</td>\n",
        "      <td> 6968.589844</td>\n",
        "      <td> 6569.859863</td>\n",
        "      <td> 6419.189941</td>\n",
        "      <td> 6908.339844</td>\n",
        "      <td> 4785.759766</td>\n",
        "      <td> 4562.189941</td>\n",
        "      <td> 1120.099976</td>\n",
        "      <td>...</td>\n",
        "      <td>  5.940000</td>\n",
        "      <td> 28.230000</td>\n",
        "      <td> -4.680</td>\n",
        "      <td>-13.180000</td>\n",
        "      <td>-13.180000</td>\n",
        "      <td> 21.860001</td>\n",
        "      <td>  9.120000</td>\n",
        "      <td> 11.240</td>\n",
        "      <td>  8.06</td>\n",
        "      <td> AD</td>\n",
        "    </tr>\n",
        "    <tr>\n",
        "      <th>2</th>\n",
        "      <td> 2940.510010</td>\n",
        "      <td> 6858.120117</td>\n",
        "      <td> 6927.790039</td>\n",
        "      <td> 6495.990234</td>\n",
        "      <td> 5273.470215</td>\n",
        "      <td> 4672.479980</td>\n",
        "      <td> 5474.669922</td>\n",
        "      <td> 2140.989990</td>\n",
        "      <td> 5120.390137</td>\n",
        "      <td> 1212.900024</td>\n",
        "      <td>...</td>\n",
        "      <td>  4.725000</td>\n",
        "      <td> 17.280001</td>\n",
        "      <td> -6.590</td>\n",
        "      <td>-17.969999</td>\n",
        "      <td>-16.070000</td>\n",
        "      <td> 10.195000</td>\n",
        "      <td> 17.285000</td>\n",
        "      <td>  6.920</td>\n",
        "      <td>-11.09</td>\n",
        "      <td> AD</td>\n",
        "    </tr>\n",
        "    <tr>\n",
        "      <th>3</th>\n",
        "      <td>   64.070000</td>\n",
        "      <td> 7016.910156</td>\n",
        "      <td> 7132.049805</td>\n",
        "      <td> 6983.439941</td>\n",
        "      <td> 6284.959961</td>\n",
        "      <td> 5504.680176</td>\n",
        "      <td> 6097.270020</td>\n",
        "      <td> 5885.410156</td>\n",
        "      <td> 5446.040039</td>\n",
        "      <td> 4422.720215</td>\n",
        "      <td>...</td>\n",
        "      <td> 11.930000</td>\n",
        "      <td> 38.755001</td>\n",
        "      <td> -5.005</td>\n",
        "      <td>-21.445000</td>\n",
        "      <td>-24.334999</td>\n",
        "      <td> 14.355000</td>\n",
        "      <td> 39.200001</td>\n",
        "      <td> 12.335</td>\n",
        "      <td>  7.41</td>\n",
        "      <td> AD</td>\n",
        "    </tr>\n",
        "    <tr>\n",
        "      <th>4</th>\n",
        "      <td> 3451.939941</td>\n",
        "      <td> 6281.060059</td>\n",
        "      <td> 6650.540039</td>\n",
        "      <td> 6858.680176</td>\n",
        "      <td> 6007.370117</td>\n",
        "      <td> 5517.950195</td>\n",
        "      <td> 5729.060059</td>\n",
        "      <td> 3245.639893</td>\n",
        "      <td> 5717.879883</td>\n",
        "      <td> 4116.729980</td>\n",
        "      <td>...</td>\n",
        "      <td>-12.110000</td>\n",
        "      <td> 32.450001</td>\n",
        "      <td>-16.170</td>\n",
        "      <td>-13.130000</td>\n",
        "      <td>-18.190001</td>\n",
        "      <td> 11.180000</td>\n",
        "      <td> 14.220000</td>\n",
        "      <td>  5.110</td>\n",
        "      <td> -8.06</td>\n",
        "      <td> AD</td>\n",
        "    </tr>\n",
        "  </tbody>\n",
        "</table>\n",
        "<p>5 rows \u00d7 12601 columns</p>\n",
        "</div>"
       ],
       "metadata": {},
       "output_type": "pyout",
       "prompt_number": 214,
       "text": [
        "    38691_s_at   37864_s_at   33273_f_at   33274_f_at   33501_r_at  \\\n",
        "0    63.200001  4196.250000  3306.350098  3330.860107  1609.469971   \n",
        "1   965.469971  6207.609863  7077.040039  6968.589844  6569.859863   \n",
        "2  2940.510010  6858.120117  6927.790039  6495.990234  5273.470215   \n",
        "3    64.070000  7016.910156  7132.049805  6983.439941  6284.959961   \n",
        "4  3451.939941  6281.060059  6650.540039  6858.680176  6007.370117   \n",
        "\n",
        "    33500_i_at   33499_s_at     41164_at   38194_s_at     37004_at  ...    \\\n",
        "0  1597.319946  1233.890015   255.139999  3036.530029     8.920000  ...     \n",
        "1  6419.189941  6908.339844  4785.759766  4562.189941  1120.099976  ...     \n",
        "2  4672.479980  5474.669922  2140.989990  5120.390137  1212.900024  ...     \n",
        "3  5504.680176  6097.270020  5885.410156  5446.040039  4422.720215  ...     \n",
        "4  5517.950195  5729.060059  3245.639893  5717.879883  4116.729980  ...     \n",
        "\n",
        "    32086_at   33886_at  31781_at  AFFX-BioC-3_at   41422_at   39964_at  \\\n",
        "0  18.629999  51.040001   -13.740      -29.120001 -28.309999  20.250000   \n",
        "1   5.940000  28.230000    -4.680      -13.180000 -13.180000  21.860001   \n",
        "2   4.725000  17.280001    -6.590      -17.969999 -16.070000  10.195000   \n",
        "3  11.930000  38.755001    -5.005      -21.445000 -24.334999  14.355000   \n",
        "4 -12.110000  32.450001   -16.170      -13.130000 -18.190001  11.180000   \n",
        "\n",
        "    36120_at  40571_at  36312_at  class  \n",
        "0  28.350000     4.060    -19.41     AD  \n",
        "1   9.120000    11.240      8.06     AD  \n",
        "2  17.285000     6.920    -11.09     AD  \n",
        "3  39.200001    12.335      7.41     AD  \n",
        "4  14.220000     5.110     -8.06     AD  \n",
        "\n",
        "[5 rows x 12601 columns]"
       ]
      }
     ],
     "prompt_number": 214
    },
    {
     "cell_type": "code",
     "collapsed": false,
     "input": [
      "lung_y = lung_df.values[:, -1]\n",
      "print(lung_y.shape, Counter(lung_y.tolist()))"
     ],
     "language": "python",
     "metadata": {},
     "outputs": [
      {
       "output_type": "stream",
       "stream": "stdout",
       "text": [
        "((203,), Counter({'AD': 139, 'SQ': 21, 'COID': 20, 'NL': 17, 'SMCL': 6}))\n"
       ]
      }
     ],
     "prompt_number": 215
    },
    {
     "cell_type": "code",
     "collapsed": false,
     "input": [
      "lung_x = lung_df.values[:, :-1]\n",
      "print(lung_x.shape)"
     ],
     "language": "python",
     "metadata": {},
     "outputs": [
      {
       "output_type": "stream",
       "stream": "stdout",
       "text": [
        "(203, 12600)\n"
       ]
      }
     ],
     "prompt_number": 216
    },
    {
     "cell_type": "markdown",
     "metadata": {},
     "source": [
      "## Prostate Cancer Dataset\n",
      "\n",
      "Gene expression measurements for samples of prostate tumors and adjacent prostate tissue not containing tumor.\n",
      "\n",
      "Platform: Affymetrix Human Genome U95Av2 Array\n",
      "\n",
      "Diagnostic classes:\n",
      "    - normal tissue (normal): 50 examples (49.0%)\n",
      "    - prostate tumor (tumor): 52 examples (51.0%)\n",
      "\n",
      "Number of genes: 12533 <br>\n",
      "Number of samples: 102"
     ]
    },
    {
     "cell_type": "code",
     "collapsed": false,
     "input": [
      "#data2 = Orange.data.Table('prostata.tab')\n",
      "#data2 = table2df(data2)\n",
      "#data2.to_pickle('prostate.df')\n",
      "\n",
      "prostate_df = pd.read_pickle('prostate.df')"
     ],
     "language": "python",
     "metadata": {},
     "outputs": [],
     "prompt_number": 217
    },
    {
     "cell_type": "code",
     "collapsed": false,
     "input": [
      "prostate_df.head()"
     ],
     "language": "python",
     "metadata": {},
     "outputs": [
      {
       "html": [
        "<div style=\"max-height:1000px;max-width:1500px;overflow:auto;\">\n",
        "<table border=\"1\" class=\"dataframe\">\n",
        "  <thead>\n",
        "    <tr style=\"text-align: right;\">\n",
        "      <th></th>\n",
        "      <th>t</th>\n",
        "      <th>31308_at</th>\n",
        "      <th>31309_r_at</th>\n",
        "      <th>31310_at</th>\n",
        "      <th>31311_at</th>\n",
        "      <th>31312_at</th>\n",
        "      <th>31313_at</th>\n",
        "      <th>31314_at</th>\n",
        "      <th>31315_at</th>\n",
        "      <th>31316_at</th>\n",
        "      <th>...</th>\n",
        "      <th>101_at</th>\n",
        "      <th>102_at</th>\n",
        "      <th>103_at</th>\n",
        "      <th>104_at</th>\n",
        "      <th>105_at</th>\n",
        "      <th>106_at</th>\n",
        "      <th>107_at</th>\n",
        "      <th>108_g_at</th>\n",
        "      <th>109_at</th>\n",
        "      <th>class</th>\n",
        "    </tr>\n",
        "  </thead>\n",
        "  <tbody>\n",
        "    <tr>\n",
        "      <th>0</th>\n",
        "      <td>-11.4</td>\n",
        "      <td>  2.7</td>\n",
        "      <td>  0.6</td>\n",
        "      <td> 4.3</td>\n",
        "      <td> 28</td>\n",
        "      <td>  0.3</td>\n",
        "      <td>-17.5</td>\n",
        "      <td> -5.4</td>\n",
        "      <td>  7.5</td>\n",
        "      <td>-0.9</td>\n",
        "      <td>...</td>\n",
        "      <td>  4.1</td>\n",
        "      <td>  2.5</td>\n",
        "      <td>  5</td>\n",
        "      <td> 22.5</td>\n",
        "      <td>  7.3</td>\n",
        "      <td> 14</td>\n",
        "      <td> 19.299999</td>\n",
        "      <td> -39.5</td>\n",
        "      <td> 37.299999</td>\n",
        "      <td> normal</td>\n",
        "    </tr>\n",
        "    <tr>\n",
        "      <th>1</th>\n",
        "      <td> -1.0</td>\n",
        "      <td> -1.0</td>\n",
        "      <td>  0.0</td>\n",
        "      <td>-1.0</td>\n",
        "      <td>  3</td>\n",
        "      <td>  0.0</td>\n",
        "      <td> -3.0</td>\n",
        "      <td>  1.0</td>\n",
        "      <td> -2.0</td>\n",
        "      <td> 0.0</td>\n",
        "      <td>...</td>\n",
        "      <td> 10.0</td>\n",
        "      <td>  2.0</td>\n",
        "      <td>  4</td>\n",
        "      <td>  5.0</td>\n",
        "      <td>  1.0</td>\n",
        "      <td>  6</td>\n",
        "      <td>  6.000000</td>\n",
        "      <td>   0.0</td>\n",
        "      <td> 26.000000</td>\n",
        "      <td> normal</td>\n",
        "    </tr>\n",
        "    <tr>\n",
        "      <th>2</th>\n",
        "      <td> -9.0</td>\n",
        "      <td>-19.0</td>\n",
        "      <td>  0.0</td>\n",
        "      <td> 0.0</td>\n",
        "      <td> 76</td>\n",
        "      <td>  9.0</td>\n",
        "      <td>-57.0</td>\n",
        "      <td> 35.0</td>\n",
        "      <td> 23.0</td>\n",
        "      <td> 3.0</td>\n",
        "      <td>...</td>\n",
        "      <td>-66.0</td>\n",
        "      <td> 12.0</td>\n",
        "      <td> 14</td>\n",
        "      <td> 59.0</td>\n",
        "      <td> 16.0</td>\n",
        "      <td>-13</td>\n",
        "      <td>-10.000000</td>\n",
        "      <td>-156.0</td>\n",
        "      <td>-21.000000</td>\n",
        "      <td> normal</td>\n",
        "    </tr>\n",
        "    <tr>\n",
        "      <th>3</th>\n",
        "      <td>-16.0</td>\n",
        "      <td> -6.0</td>\n",
        "      <td>-16.0</td>\n",
        "      <td> 1.0</td>\n",
        "      <td> 67</td>\n",
        "      <td> -1.0</td>\n",
        "      <td>-57.0</td>\n",
        "      <td> -7.0</td>\n",
        "      <td>  6.0</td>\n",
        "      <td> 0.0</td>\n",
        "      <td>...</td>\n",
        "      <td>-14.0</td>\n",
        "      <td>  0.0</td>\n",
        "      <td> 23</td>\n",
        "      <td> 35.0</td>\n",
        "      <td>  5.0</td>\n",
        "      <td> 25</td>\n",
        "      <td>-27.000000</td>\n",
        "      <td>-103.0</td>\n",
        "      <td>  0.000000</td>\n",
        "      <td> normal</td>\n",
        "    </tr>\n",
        "    <tr>\n",
        "      <th>4</th>\n",
        "      <td> -7.0</td>\n",
        "      <td>-17.0</td>\n",
        "      <td>  1.0</td>\n",
        "      <td>-3.0</td>\n",
        "      <td> 57</td>\n",
        "      <td>-18.0</td>\n",
        "      <td>-46.0</td>\n",
        "      <td>  8.0</td>\n",
        "      <td> 39.0</td>\n",
        "      <td> 0.0</td>\n",
        "      <td>...</td>\n",
        "      <td>-41.0</td>\n",
        "      <td> 16.0</td>\n",
        "      <td> 18</td>\n",
        "      <td> 49.0</td>\n",
        "      <td> 29.0</td>\n",
        "      <td> 32</td>\n",
        "      <td> 30.000000</td>\n",
        "      <td> -89.0</td>\n",
        "      <td>-13.000000</td>\n",
        "      <td> normal</td>\n",
        "    </tr>\n",
        "  </tbody>\n",
        "</table>\n",
        "<p>5 rows \u00d7 12534 columns</p>\n",
        "</div>"
       ],
       "metadata": {},
       "output_type": "pyout",
       "prompt_number": 218,
       "text": [
        "      t  31308_at  31309_r_at  31310_at  31311_at  31312_at  31313_at  \\\n",
        "0 -11.4       2.7         0.6       4.3        28       0.3     -17.5   \n",
        "1  -1.0      -1.0         0.0      -1.0         3       0.0      -3.0   \n",
        "2  -9.0     -19.0         0.0       0.0        76       9.0     -57.0   \n",
        "3 -16.0      -6.0       -16.0       1.0        67      -1.0     -57.0   \n",
        "4  -7.0     -17.0         1.0      -3.0        57     -18.0     -46.0   \n",
        "\n",
        "   31314_at  31315_at  31316_at   ...    101_at  102_at  103_at  104_at  \\\n",
        "0      -5.4       7.5      -0.9   ...       4.1     2.5       5    22.5   \n",
        "1       1.0      -2.0       0.0   ...      10.0     2.0       4     5.0   \n",
        "2      35.0      23.0       3.0   ...     -66.0    12.0      14    59.0   \n",
        "3      -7.0       6.0       0.0   ...     -14.0     0.0      23    35.0   \n",
        "4       8.0      39.0       0.0   ...     -41.0    16.0      18    49.0   \n",
        "\n",
        "   105_at  106_at     107_at  108_g_at     109_at   class  \n",
        "0     7.3      14  19.299999     -39.5  37.299999  normal  \n",
        "1     1.0       6   6.000000       0.0  26.000000  normal  \n",
        "2    16.0     -13 -10.000000    -156.0 -21.000000  normal  \n",
        "3     5.0      25 -27.000000    -103.0   0.000000  normal  \n",
        "4    29.0      32  30.000000     -89.0 -13.000000  normal  \n",
        "\n",
        "[5 rows x 12534 columns]"
       ]
      }
     ],
     "prompt_number": 218
    },
    {
     "cell_type": "code",
     "collapsed": false,
     "input": [
      "prostate_y = prostate_df.values[:, -1]\n",
      "\n",
      "lb = preprocessing.LabelBinarizer(neg_label=0, pos_label=1, sparse_output=False)\n",
      "lb.fit(prostate_y)  # mapping normal=negative=0; tumer=positive=1; \n",
      "\n",
      "print \"Class label: \", Counter(prostate_y.tolist()) \n",
      "prostate_y = lb.transform(prostate_y) \n",
      "prostate_y = np.ravel(prostate_y)\n",
      "print \"Class label: \", Counter(prostate_y.tolist())\n",
      "\n",
      "prostate_x = prostate_df.values[:, :-1]\n",
      "N,d = prostate_x.shape\n",
      "print \"Size =\", N, \"; dimensions =\", d "
     ],
     "language": "python",
     "metadata": {},
     "outputs": [
      {
       "output_type": "stream",
       "stream": "stdout",
       "text": [
        "Class label:  Counter({'tumor': 52, 'normal': 50})\n",
        "Class label:  Counter({1: 52, 0: 50})\n",
        "Size = 102 ; dimensions = 12533\n"
       ]
      }
     ],
     "prompt_number": 436
    },
    {
     "cell_type": "heading",
     "level": 4,
     "metadata": {},
     "source": [
      "Split data set into training and testing data sets, 70%/30% respectively."
     ]
    },
    {
     "cell_type": "code",
     "collapsed": false,
     "input": [
      "X_train, X_test, y_train, y_test = train_test_split(prostate_x, prostate_y, test_size=0.3, random_state=0)\n",
      "print \"Training data set:\"\n",
      "print X_train.shape\n",
      "print y_train.shape, Counter(y_train.tolist())\n",
      "print y_train\n",
      "\n",
      "print \"Testing data set:\"\n",
      "print X_test.shape\n",
      "print y_test.shape, Counter(y_test.tolist())\n",
      "\n",
      "#lb = preprocessing.LabelBinarizer(neg_label=0, pos_label=1, sparse_output=False)\n",
      "#lb.fit(y_train)\n",
      "#y_train = lb.transform(y_train) \n",
      "#y_train = np.ravel(y_train)\n",
      "\n",
      "#lb.fit(y_test)\n",
      "#y_test = lb.transform(y_test)  # binarize 'normal' to 0, and 'tumor' to 1 for precision and recall calcs\n",
      "#y_test = np.ravel(y_test)\n",
      "print y_test"
     ],
     "language": "python",
     "metadata": {},
     "outputs": [
      {
       "output_type": "stream",
       "stream": "stdout",
       "text": [
        "Training data set:\n",
        "(71, 12533)\n",
        "(71,) Counter({1: 36, 0: 35})\n",
        "[1 1 1 1 0 0 1 1 1 0 1 0 0 0 0 0 0 0 0 1 1 0 0 0 1 0 0 0 1 0 0 1 1 1 1 1 0\n",
        " 1 0 1 0 0 0 1 1 1 0 1 1 1 0 0 1 0 0 1 1 0 1 1 1 1 0 0 1 0 1 1 1 0 0]\n",
        "Testing data set:\n",
        "(31, 12533)\n",
        "(31,) Counter({1: 16, 0: 15})\n",
        "[0 1 0 1 1 1 0 1 1 1 1 1 1 0 0 0 0 0 0 0 0 1 0 1 0 0 0 1 1 1 1]\n"
       ]
      }
     ],
     "prompt_number": 439
    },
    {
     "cell_type": "markdown",
     "metadata": {},
     "source": [
      "## Task 1\n",
      "Try both \n",
      " * logistic regression (with l1 regularization)\n",
      " * decision tree\n",
      " \n",
      "classifiers on the above two datasets. For each combination of classifier and dataset, find:\n",
      "\n",
      " * how well the model/classifier can fit the data, i.e. what is the best training accuracy?\n",
      " * how well the model/classifier can generalize, i.e., what is the best 10-fold cross-validation accuracy?\n",
      " * the best is with respect to the choice of model parameter:\n",
      "   - for logit, consider different values for the regularization strength ('C').\n",
      "   - for DT, consider different values for the max depth of the tree ('max_depth') and min number of samples required to be a lead node ('min-samples_leaf')"
     ]
    },
    {
     "cell_type": "heading",
     "level": 3,
     "metadata": {},
     "source": [
      "Fit using Logistic Regression"
     ]
    },
    {
     "cell_type": "code",
     "collapsed": false,
     "input": [
      "perf = dict()"
     ],
     "language": "python",
     "metadata": {},
     "outputs": []
    },
    {
     "cell_type": "code",
     "collapsed": false,
     "input": [
      "# fit logistic regresion model to training data set\n",
      "model = LogisticRegression(penalty='l1')\n",
      "model.fit(prostate_x, prostate_y)\n",
      "print \"  Training set accuracy: \", model.score(prostate_x, prostate_y)"
     ],
     "language": "python",
     "metadata": {},
     "outputs": [
      {
       "output_type": "stream",
       "stream": "stdout",
       "text": [
        "  Training set accuracy:  "
       ]
      },
      {
       "output_type": "stream",
       "stream": "stdout",
       "text": [
        "1.0\n"
       ]
      }
     ],
     "prompt_number": 440
    },
    {
     "cell_type": "code",
     "collapsed": false,
     "input": [
      "# examine the coefficients\n",
      "#print model.coef_\n",
      "#pd.DataFrame(zip(X.columns, np.transpose(model.coef_)))"
     ],
     "language": "python",
     "metadata": {},
     "outputs": [
      {
       "output_type": "stream",
       "stream": "stdout",
       "text": [
        "[[ 0.  0.  0. ...,  0.  0.  0.]]\n"
       ]
      }
     ],
     "prompt_number": 441
    },
    {
     "cell_type": "code",
     "collapsed": false,
     "input": [
      "scores = cross_val_score(LogisticRegression(penalty='l1'), prostate_x, prostate_y, scoring='accuracy', cv=10)\n",
      "print scores\n",
      "print \"  10-Fold CV training set accuracy: \", scores.mean()"
     ],
     "language": "python",
     "metadata": {},
     "outputs": [
      {
       "output_type": "stream",
       "stream": "stdout",
       "text": [
        "[ 0.90909091  1.          0.9         1.          1.          1.          0.7\n",
        "  0.8         1.          1.        ]\n",
        "  10-Fold CV training set accuracy:  0.930909090909\n"
       ]
      }
     ],
     "prompt_number": 442
    },
    {
     "cell_type": "code",
     "collapsed": false,
     "input": [
      "model2 = LogisticRegression(penalty='l1')\n",
      "model2.fit(X_train, y_train)"
     ],
     "language": "python",
     "metadata": {},
     "outputs": [
      {
       "metadata": {},
       "output_type": "pyout",
       "prompt_number": 443,
       "text": [
        "LogisticRegression(C=1.0, class_weight=None, dual=False, fit_intercept=True,\n",
        "          intercept_scaling=1, penalty='l1', random_state=None, tol=0.0001)"
       ]
      }
     ],
     "prompt_number": 443
    },
    {
     "cell_type": "code",
     "collapsed": false,
     "input": [
      "# predict class label for test set\n",
      "predicted = model2.predict(X_test)"
     ],
     "language": "python",
     "metadata": {},
     "outputs": [],
     "prompt_number": 446
    },
    {
     "cell_type": "code",
     "collapsed": false,
     "input": [
      "# generate evaluation metrics\n",
      "# Compute the minimum value of the L1 penalty parameter. Below this\n",
      "# value, all model parameters will be shrunk to zero.\n",
      "# Create a space of penalty parameters to test.\n",
      "C_range = l1_min_c(X_train, y_train, loss='log') * np.logspace(0, 3)\n",
      "\n",
      "print(\"Accuracy \\t C\")\n",
      "best_acc = 0.0\n",
      "best_c = 1.0\n",
      "for c in C_range:\n",
      "    model2 = LogisticRegression(C=c, penalty='l1')\n",
      "    model2.fit(X_train, y_train)\n",
      "    \n",
      "    score = model2.score(X_test, y_test)\n",
      "    #print \"Testing set accuracy:\", model2.score(X_test, y_test)\n",
      "    \n",
      "    print(\"%0.3f \\t\\t\\t %0.6f\" % (score, c))\n",
      "    if (score > best_acc):\n",
      "        best_acc = score\n",
      "        best_c = c\n",
      "    \n",
      "    predicted = model2.predict(X_test)\n",
      "    #print \"Confusion matrix: \"\n",
      "    #print metrics.confusion_matrix(y_test, predicted)\n",
      "    #print metrics.classification_report(y_test, predicted)\n"
     ],
     "language": "python",
     "metadata": {},
     "outputs": [
      {
       "output_type": "stream",
       "stream": "stdout",
       "text": [
        " Accuracy \t C\n",
        "0.484 \t\t\t 0.000045"
       ]
      },
      {
       "output_type": "stream",
       "stream": "stdout",
       "text": [
        "\n",
        "0.677 \t\t\t 0.000051"
       ]
      },
      {
       "output_type": "stream",
       "stream": "stdout",
       "text": [
        "\n",
        "0.710 \t\t\t 0.000059"
       ]
      },
      {
       "output_type": "stream",
       "stream": "stdout",
       "text": [
        "\n",
        "0.710 \t\t\t 0.000068"
       ]
      },
      {
       "output_type": "stream",
       "stream": "stdout",
       "text": [
        "\n",
        "0.710 \t\t\t 0.000078"
       ]
      },
      {
       "output_type": "stream",
       "stream": "stdout",
       "text": [
        "\n",
        "0.710 \t\t\t 0.000090"
       ]
      },
      {
       "output_type": "stream",
       "stream": "stdout",
       "text": [
        "\n",
        "0.710 \t\t\t 0.000104"
       ]
      },
      {
       "output_type": "stream",
       "stream": "stdout",
       "text": [
        "\n",
        "0.806 \t\t\t 0.000120"
       ]
      },
      {
       "output_type": "stream",
       "stream": "stdout",
       "text": [
        "\n",
        "0.903 \t\t\t 0.000138"
       ]
      },
      {
       "output_type": "stream",
       "stream": "stdout",
       "text": [
        "\n",
        "0.871 \t\t\t 0.000159"
       ]
      },
      {
       "output_type": "stream",
       "stream": "stdout",
       "text": [
        "\n",
        "0.935 \t\t\t 0.000183"
       ]
      },
      {
       "output_type": "stream",
       "stream": "stdout",
       "text": [
        "\n",
        "0.935 \t\t\t 0.000210"
       ]
      },
      {
       "output_type": "stream",
       "stream": "stdout",
       "text": [
        "\n",
        "0.935 \t\t\t 0.000242"
       ]
      },
      {
       "output_type": "stream",
       "stream": "stdout",
       "text": [
        "\n",
        "0.903 \t\t\t 0.000279"
       ]
      },
      {
       "output_type": "stream",
       "stream": "stdout",
       "text": [
        "\n",
        "0.935 \t\t\t 0.000321"
       ]
      },
      {
       "output_type": "stream",
       "stream": "stdout",
       "text": [
        "\n",
        "0.935 \t\t\t 0.000370"
       ]
      },
      {
       "output_type": "stream",
       "stream": "stdout",
       "text": [
        "\n",
        "0.903 \t\t\t 0.000425"
       ]
      },
      {
       "output_type": "stream",
       "stream": "stdout",
       "text": [
        "\n",
        "0.903 \t\t\t 0.000490"
       ]
      },
      {
       "output_type": "stream",
       "stream": "stdout",
       "text": [
        "\n",
        "0.935 \t\t\t 0.000564"
       ]
      },
      {
       "output_type": "stream",
       "stream": "stdout",
       "text": [
        "\n",
        "0.935 \t\t\t 0.000649"
       ]
      },
      {
       "output_type": "stream",
       "stream": "stdout",
       "text": [
        "\n",
        "0.935 \t\t\t 0.000748"
       ]
      },
      {
       "output_type": "stream",
       "stream": "stdout",
       "text": [
        "\n",
        "0.935 \t\t\t 0.000861"
       ]
      },
      {
       "output_type": "stream",
       "stream": "stdout",
       "text": [
        "\n",
        "0.935 \t\t\t 0.000991"
       ]
      },
      {
       "output_type": "stream",
       "stream": "stdout",
       "text": [
        "\n",
        "0.935 \t\t\t 0.001141"
       ]
      },
      {
       "output_type": "stream",
       "stream": "stdout",
       "text": [
        "\n",
        "0.935 \t\t\t 0.001314"
       ]
      },
      {
       "output_type": "stream",
       "stream": "stdout",
       "text": [
        "\n",
        "0.903 \t\t\t 0.001513"
       ]
      },
      {
       "output_type": "stream",
       "stream": "stdout",
       "text": [
        "\n",
        "0.871 \t\t\t 0.001742"
       ]
      },
      {
       "output_type": "stream",
       "stream": "stdout",
       "text": [
        "\n",
        "0.871 \t\t\t 0.002006"
       ]
      },
      {
       "output_type": "stream",
       "stream": "stdout",
       "text": [
        "\n",
        "0.871 \t\t\t 0.002310"
       ]
      },
      {
       "output_type": "stream",
       "stream": "stdout",
       "text": [
        "\n",
        "0.871 \t\t\t 0.002659"
       ]
      },
      {
       "output_type": "stream",
       "stream": "stdout",
       "text": [
        "\n",
        "0.871 \t\t\t 0.003062"
       ]
      },
      {
       "output_type": "stream",
       "stream": "stdout",
       "text": [
        "\n",
        "0.871 \t\t\t 0.003526"
       ]
      },
      {
       "output_type": "stream",
       "stream": "stdout",
       "text": [
        "\n",
        "0.871 \t\t\t 0.004059"
       ]
      },
      {
       "output_type": "stream",
       "stream": "stdout",
       "text": [
        "\n",
        "0.871 \t\t\t 0.004674"
       ]
      },
      {
       "output_type": "stream",
       "stream": "stdout",
       "text": [
        "\n",
        "0.871 \t\t\t 0.005382"
       ]
      },
      {
       "output_type": "stream",
       "stream": "stdout",
       "text": [
        "\n",
        "0.839 \t\t\t 0.006196"
       ]
      },
      {
       "output_type": "stream",
       "stream": "stdout",
       "text": [
        "\n",
        "0.839 \t\t\t 0.007135"
       ]
      },
      {
       "output_type": "stream",
       "stream": "stdout",
       "text": [
        "\n",
        "0.839 \t\t\t 0.008215"
       ]
      },
      {
       "output_type": "stream",
       "stream": "stdout",
       "text": [
        "\n",
        "0.839 \t\t\t 0.009458"
       ]
      },
      {
       "output_type": "stream",
       "stream": "stdout",
       "text": [
        "\n",
        "0.839 \t\t\t 0.010890"
       ]
      },
      {
       "output_type": "stream",
       "stream": "stdout",
       "text": [
        "\n",
        "0.871 \t\t\t 0.012539"
       ]
      },
      {
       "output_type": "stream",
       "stream": "stdout",
       "text": [
        "\n",
        "0.871 \t\t\t 0.014437"
       ]
      },
      {
       "output_type": "stream",
       "stream": "stdout",
       "text": [
        "\n",
        "0.871 \t\t\t 0.016623"
       ]
      },
      {
       "output_type": "stream",
       "stream": "stdout",
       "text": [
        "\n",
        "0.871 \t\t\t 0.019140"
       ]
      },
      {
       "output_type": "stream",
       "stream": "stdout",
       "text": [
        "\n",
        "0.871 \t\t\t 0.022038"
       ]
      },
      {
       "output_type": "stream",
       "stream": "stdout",
       "text": [
        "\n",
        "0.871 \t\t\t 0.025374"
       ]
      },
      {
       "output_type": "stream",
       "stream": "stdout",
       "text": [
        "\n",
        "0.871 \t\t\t 0.029216"
       ]
      },
      {
       "output_type": "stream",
       "stream": "stdout",
       "text": [
        "\n",
        "0.871 \t\t\t 0.033639"
       ]
      },
      {
       "output_type": "stream",
       "stream": "stdout",
       "text": [
        "\n",
        "0.871 \t\t\t 0.038731"
       ]
      },
      {
       "output_type": "stream",
       "stream": "stdout",
       "text": [
        "\n",
        "0.871 \t\t\t 0.044595"
       ]
      },
      {
       "output_type": "stream",
       "stream": "stdout",
       "text": [
        "\n"
       ]
      }
     ],
     "prompt_number": 463
    },
    {
     "cell_type": "code",
     "collapsed": false,
     "input": [
      "# evaluate the model using testing set\n",
      "print \"accuracy =\", best_acc, \" with C =\", best_c"
     ],
     "language": "python",
     "metadata": {},
     "outputs": [
      {
       "output_type": "stream",
       "stream": "stdout",
       "text": [
        "accuracy = 0.935483870968  with C = 0.000182613458882\n"
       ]
      }
     ],
     "prompt_number": 465
    },
    {
     "cell_type": "code",
     "collapsed": false,
     "input": [
      "# evaluate the model using 10-fold cross-validation\n",
      "scores = cross_val_score(LogisticRegression(penalty='l1'), prostate_x, prostate_y, scoring='accuracy', cv=10)\n",
      "print scores\n",
      "print \"accuracy =\", scores.mean()\n",
      "\n",
      "scores = cross_val_score(LogisticRegression(penalty='l1'), prostate_x, prostate_y, scoring='precision', cv=10)\n",
      "print scores\n",
      "print \"precision =\", scores.mean()\n",
      "\n",
      "scores = cross_val_score(LogisticRegression(penalty='l1'), prostate_x, prostate_y, scoring='recall', cv=10)\n",
      "print scores\n",
      "print \"recall =\", scores.mean()\n"
     ],
     "language": "python",
     "metadata": {},
     "outputs": [
      {
       "output_type": "stream",
       "stream": "stdout",
       "text": [
        "[ 1.   1.   0.9  0.9  1.   1.   0.7  0.8  1.   1. ]\n",
        "accuracy = 0.93\n",
        "[ 1.          1.          1.          1.          1.          1.\n",
        "  0.66666667  1.          1.          0.83333333]"
       ]
      },
      {
       "output_type": "stream",
       "stream": "stdout",
       "text": [
        "\n",
        "precision = 0.95\n",
        "[ 1.   1.   0.8  0.8  1.   1.   0.8  0.6  1.   1. ]"
       ]
      },
      {
       "output_type": "stream",
       "stream": "stdout",
       "text": [
        "\n",
        "recall = 0.9\n"
       ]
      }
     ],
     "prompt_number": 461
    },
    {
     "cell_type": "heading",
     "level": 3,
     "metadata": {},
     "source": [
      "Fit using Decision Tree"
     ]
    },
    {
     "cell_type": "code",
     "collapsed": false,
     "input": [
      "model_dt = DecisionTreeClassifier()\n",
      "model_dt.fit(prostate_x, prostate_y)\n",
      "print \"Decision tree training accuracy:\", model_dt.score(prostate_x, prostate_y)"
     ],
     "language": "python",
     "metadata": {},
     "outputs": [
      {
       "output_type": "stream",
       "stream": "stdout",
       "text": [
        "Decision tree training accuracy: 1.0\n"
       ]
      }
     ],
     "prompt_number": 468
    },
    {
     "cell_type": "code",
     "collapsed": false,
     "input": [
      "# evaluate the model using 10-fold cross-validation\n",
      "scores = cross_val_score(DecisionTreeClassifier(), prostate_x, prostate_y, scoring='accuracy', cv=10)\n",
      "print scores\n",
      "print \"  accuracy =\", scores.mean()\n",
      "\n",
      "scores = cross_val_score(DecisionTreeClassifier(), prostate_x, prostate_y, scoring='precision', cv=10)\n",
      "print scores\n",
      "print \"  precision =\", scores.mean()\n",
      "\n",
      "scores = cross_val_score(DecisionTreeClassifier(), prostate_x, prostate_y, scoring='recall', cv=10)\n",
      "print scores\n",
      "print \"  recall =\", scores.mean()\n"
     ],
     "language": "python",
     "metadata": {},
     "outputs": [
      {
       "output_type": "stream",
       "stream": "stdout",
       "text": [
        "[ 0.90909091  0.72727273  0.9         0.5         0.8         0.9         0.7\n",
        "  0.8         0.8         0.6       ]\n",
        "  accuracy = 0.763636363636\n",
        "[ 0.66666667  0.83333333  0.8         0.5         0.8         0.5\n",
        "  0.66666667  0.5         1.          0.83333333]"
       ]
      },
      {
       "output_type": "stream",
       "stream": "stdout",
       "text": [
        "\n",
        "  precision = 0.71\n",
        "[ 1.          0.66666667  0.8         0.6         0.8         0.8         0.8\n",
        "  0.6         0.8         1.        ]"
       ]
      },
      {
       "output_type": "stream",
       "stream": "stdout",
       "text": [
        "\n",
        "  recall = 0.786666666667\n"
       ]
      }
     ],
     "prompt_number": 470
    },
    {
     "cell_type": "markdown",
     "metadata": {},
     "source": [
      "## Task 2\n",
      "Try SVM classification on the two datasets using:\n",
      " * linear kernel\n",
      " * rbf kernel\n",
      " * polynomial kernel\n",
      "\n",
      "You need to tune the SVM model parameter 'C' \n",
      "as well as kernel parameter (if the kernel requires one) \n",
      "to find the best generalization (10 fold CV). "
     ]
    },
    {
     "cell_type": "code",
     "collapsed": false,
     "input": [
      "performance = dict()"
     ],
     "language": "python",
     "metadata": {},
     "outputs": [],
     "prompt_number": 346
    },
    {
     "cell_type": "heading",
     "level": 4,
     "metadata": {},
     "source": [
      "Fit using Support Vector Machines (SVM)"
     ]
    },
    {
     "cell_type": "code",
     "collapsed": false,
     "input": [
      "# Tune SVM with linear kernel using exhaustive grid search\n",
      "C_range = 10.0 ** np.arange(-2, 5)\n",
      "param_grid = dict(C=C_range)\n",
      "cv = StratifiedKFold(y=prostate_y, n_folds=10)\n",
      "grid = GridSearchCV(SVC(kernel='linear'), param_grid=param_grid, cv=cv)\n",
      "grid.fit(prostate_x, prostate_y)\n",
      "\n",
      "print grid.best_estimator_"
     ],
     "language": "python",
     "metadata": {},
     "outputs": [
      {
       "output_type": "stream",
       "stream": "stdout",
       "text": [
        "SVC(C=0.01, cache_size=200, class_weight=None, coef0=0.0, degree=3, gamma=0.0,\n",
        "  kernel='linear', max_iter=-1, probability=False, random_state=None,\n",
        "  shrinking=True, tol=0.001, verbose=False)\n"
       ]
      }
     ],
     "prompt_number": 328
    },
    {
     "cell_type": "code",
     "collapsed": false,
     "input": [
      "print \"SVM with linear kernel: \"\n",
      "print \"  kernel =\", grid.best_estimator_.kernel\n",
      "print \"  C =\", grid.best_estimator_.C\n",
      "print \"  accuracy =\", grid.best_score_"
     ],
     "language": "python",
     "metadata": {},
     "outputs": [
      {
       "output_type": "stream",
       "stream": "stdout",
       "text": [
        "SVM with linear kernel: \n",
        "  kernel = linear\n",
        "  C = 0.01\n",
        "  accuracy = 0.921568627451\n"
       ]
      }
     ],
     "prompt_number": 334
    },
    {
     "cell_type": "code",
     "collapsed": false,
     "input": [
      "performance['SVM-LIN'] = grid.best_score_"
     ],
     "language": "python",
     "metadata": {},
     "outputs": [],
     "prompt_number": 348
    },
    {
     "cell_type": "code",
     "collapsed": false,
     "input": [
      "# Tune SVM with RBF kernel using exhaustive grid search\n",
      "C_range = 10.0 ** np.arange(-2, 5)\n",
      "gamma_range = 10.0 ** np.arange(-5, 4)\n",
      "param_grid = dict(gamma=gamma_range, C=C_range)\n",
      "cv = StratifiedKFold(y=prostate_y, n_folds=10)\n",
      "grid2 = GridSearchCV(SVC(), param_grid=param_grid, cv=cv)\n",
      "grid2.fit(prostate_x, prostate_y)\n",
      "\n",
      "print(\"The best classifier is: \", grid2.best_estimator_)"
     ],
     "language": "python",
     "metadata": {},
     "outputs": [
      {
       "output_type": "stream",
       "stream": "stdout",
       "text": [
        "('The best classifier is: ', SVC(C=0.01, cache_size=200, class_weight=None, coef0=0.0, degree=3,\n",
        "  gamma=1.0000000000000001e-05, kernel='rbf', max_iter=-1,\n",
        "  probability=False, random_state=None, shrinking=True, tol=0.001,\n",
        "  verbose=False))\n"
       ]
      }
     ],
     "prompt_number": 330
    },
    {
     "cell_type": "code",
     "collapsed": false,
     "input": [
      "print \"SVM with rbf kernel: \"\n",
      "print \"  kernel =\", grid2.best_estimator_.kernel\n",
      "print \"  C =\", grid2.best_estimator_.C\n",
      "print \"  gamma =\", grid2.best_estimator_.gamma\n",
      "print \"  accuracy =\", grid2.best_score_\n"
     ],
     "language": "python",
     "metadata": {},
     "outputs": [
      {
       "output_type": "stream",
       "stream": "stdout",
       "text": [
        "SVM with rbf kernel: \n",
        "  kernel = rbf\n",
        "  C = 0.01\n",
        "  gamma = 1e-05\n",
        "  accuracy = 0.509803921569\n"
       ]
      }
     ],
     "prompt_number": 335
    },
    {
     "cell_type": "code",
     "collapsed": false,
     "input": [
      "performance['SVM-RBF'] = grid2.best_score_"
     ],
     "language": "python",
     "metadata": {},
     "outputs": [],
     "prompt_number": 349
    },
    {
     "cell_type": "code",
     "collapsed": false,
     "input": [
      "#for params, mean_score, scores in grid.grid_scores_:\n",
      "#    print(\"%0.3f (+/-%0.03f) for %r\" % (mean_score, scores.std() / 2, params))\n",
      "\n",
      "#scores = cross_val_score(SVC(C=0.01, gamma=0.00001, kernel='rbf'), prostate_x, prostate_y, scoring='accuracy', cv=10)\n",
      "#print scores\n",
      "#print \"Accuracy - SVM with RBF kernel: \", scores.mean()"
     ],
     "language": "python",
     "metadata": {},
     "outputs": [],
     "prompt_number": 322
    },
    {
     "cell_type": "code",
     "collapsed": false,
     "input": [
      "# Tune SVM with polynomial kernel using exhaustive grid search\n",
      "C_range = 10.0 ** np.arange(-2, 5)\n",
      "degree_range = np.arange(2, 8)\n",
      "param_grid = dict(degree=degree_range, C=C_range)\n",
      "cv = StratifiedKFold(y=prostate_y, n_folds=10)\n",
      "grid3 = GridSearchCV(SVC(kernel='poly'), param_grid=param_grid, cv=cv)\n",
      "grid3.fit(prostate_x, prostate_y)\n",
      "\n",
      "print grid3.best_estimator_"
     ],
     "language": "python",
     "metadata": {},
     "outputs": [
      {
       "output_type": "stream",
       "stream": "stdout",
       "text": [
        " SVC(C=0.01, cache_size=200, class_weight=None, coef0=0.0, degree=3, gamma=0.0,\n",
        "  kernel='poly', max_iter=-1, probability=False, random_state=None,\n",
        "  shrinking=True, tol=0.001, verbose=False)\n"
       ]
      }
     ],
     "prompt_number": 337
    },
    {
     "cell_type": "code",
     "collapsed": false,
     "input": [
      "print \"SVM with polynomial kernel: \"\n",
      "print \"  kernel =\", grid3.best_estimator_.kernel\n",
      "print \"  C =\", grid3.best_estimator_.C\n",
      "print \"  degree =\", grid3.best_estimator_.degree\n",
      "print \"  accuracy =\", grid3.best_score_\n",
      "#print \"precision =\", grid3.grid_scores_.precision"
     ],
     "language": "python",
     "metadata": {},
     "outputs": [
      {
       "output_type": "stream",
       "stream": "stdout",
       "text": [
        "SVM with polynomial kernel: \n",
        "  kernel = poly\n",
        "  C = 0.01\n",
        "  degree = 3\n",
        "  accuracy = 0.911764705882\n"
       ]
      }
     ],
     "prompt_number": 340
    },
    {
     "cell_type": "code",
     "collapsed": false,
     "input": [
      "performance['SVM-POLY'] = grid3.best_score_"
     ],
     "language": "python",
     "metadata": {},
     "outputs": [],
     "prompt_number": 350
    },
    {
     "cell_type": "code",
     "collapsed": false,
     "input": [
      "print performance.values()"
     ],
     "language": "python",
     "metadata": {},
     "outputs": [
      {
       "output_type": "stream",
       "stream": "stdout",
       "text": [
        "[0.92156862745098034, 0.91999999999999993, 0.50980392156862742, 0.91176470588235292]\n"
       ]
      }
     ],
     "prompt_number": 356
    },
    {
     "cell_type": "code",
     "collapsed": false,
     "input": [
      "# plot performance comparison\n",
      "plt.bar(range(len(performance)), performance.values(), width=0.5, align='center')\n",
      "plt.xticks(range(len(performance)), performance.keys())\n",
      "plt.title('Generalization Performance Comparison')\n",
      "plt.xlabel('Classifiers')\n",
      "plt.ylabel('Accuracy')\n",
      "plt.show()"
     ],
     "language": "python",
     "metadata": {},
     "outputs": [
      {
       "metadata": {},
       "output_type": "display_data",
       "png": "[encoded data removed]",
       "text": [
        "<matplotlib.figure.Figure at 0x109c3c1d0>"
       ]
      }
     ],
     "prompt_number": 367
    },
    {
     "cell_type": "markdown",
     "metadata": {},
     "source": [
      "## Task 3\n",
      "Consider linear SVM model and the prostate cancer dataset. Find the precision and recall of the model using 10-fold CV. \n",
      "Vary the model parameter 'C' and plot precision vs 'C' and recall vs 'C'.\n",
      "\n",
      "Definitions:\n",
      "* Precision: (# of persons who have cancer and also are labeled by SVM to have cancer)/(# of persons labeled by SVM to have cancer)\n",
      "* Recall (# of persons who have cancer and also are labeled by SVM to have cancer)/(# of persons who have cancer)"
     ]
    },
    {
     "cell_type": "code",
     "collapsed": false,
     "input": [
      "# flatten y into a 1-D array\n",
      "y = lb.transform(prostate_y)\n",
      "prostate_y_bin = np.ravel(y)\n",
      "\n",
      "# categorical class label must be binarized in order to calculate the precision and recall\n",
      "#temp = lb.transform(prostate_y)\n",
      "#prostate_y_bin = temp.ravel()\n",
      "\n",
      "#use 10-fold cross validation\n",
      "cv = StratifiedKFold(y=prostate_y_bin, n_folds=10)\n",
      "\n",
      "lin_svc_clf = svm.LinearSVC(C=1.0)\n",
      "C_range = 10.0 ** np.arange(-5, 5)\n",
      "precision = []\n",
      "recall = []\n",
      "for c in C_range:\n",
      "    # set new value for C model parameter\n",
      "    lin_svc_clf.set_params(C=c)\n",
      "    \n",
      "    precision_scores = cross_val_score(lin_svc_clf, prostate_x, prostate_y_bin, scoring='precision', cv=cv)\n",
      "    precision.append(precision_scores.mean())\n",
      "    \n",
      "    recall_scores = cross_val_score(lin_svc_clf, prostate_x, prostate_y_bin, scoring='recall', cv=cv)\n",
      "    recall.append(recall_scores.mean())"
     ],
     "language": "python",
     "metadata": {},
     "outputs": [],
     "prompt_number": 402
    },
    {
     "cell_type": "code",
     "collapsed": false,
     "input": [
      "# plot precisionrate for C values\n",
      "plt.plot(np.log10(C_range), precision)\n",
      "ymin, ymax = plt.ylim()\n",
      "plt.xlabel('log(C)')\n",
      "plt.ylabel('Precision')\n",
      "plt.title('Classification Performance using Linear SVC Classifier \\n Prostate Cancer Data Set')\n",
      "plt.axis('tight')\n",
      "plt.show()"
     ],
     "language": "python",
     "metadata": {},
     "outputs": [
      {
       "metadata": {},
       "output_type": "display_data",
       "png": "[encoded data removed]",
       "text": [
        "<matplotlib.figure.Figure at 0x139958350>"
       ]
      }
     ],
     "prompt_number": 403
    },
    {
     "cell_type": "code",
     "collapsed": false,
     "input": [
      "# plot recall rate for C values\n",
      "plt.plot(np.log10(C_range), recall)\n",
      "ymin, ymax = plt.ylim()\n",
      "plt.xlabel('log(C)')\n",
      "plt.ylabel('Recall')\n",
      "plt.title('Classification Performance using Linear SVC Classifier \\n Prostate Cancer Data Set')\n",
      "plt.axis('tight')\n",
      "plt.show()"
     ],
     "language": "python",
     "metadata": {},
     "outputs": [
      {
       "metadata": {},
       "output_type": "display_data",
       "png": "[encoded data removed]",
       "text": [
        "<matplotlib.figure.Figure at 0x109e5ab90>"
       ]
      }
     ],
     "prompt_number": 404
    },
    {
     "cell_type": "markdown",
     "metadata": {},
     "source": [
      "## Exploring Data"
     ]
    },
    {
     "cell_type": "code",
     "collapsed": false,
     "input": [
      "from mpl_toolkits.mplot3d import Axes3D\n",
      "\n",
      "ixp = np.nonzero(prostate_y=='tumor')[0]\n",
      "ixn = np.nonzero(prostate_y=='normal')[0]\n",
      "\n",
      "i, j, k = 2, 3, 4\n",
      "\n",
      "fig = plt.figure(figsize=(8,8))\n",
      "ax = fig.add_subplot(111, projection='3d')  \n",
      "ax.scatter(prostate_x[ixp, i], prostate_x[ixp, j], prostate_x[ixp, k], marker='x', color='red', label='tumor')\n",
      "ax.scatter(prostate_x[ixn, i], prostate_x[ixn, j], prostate_x[ixn, k], marker='o', color='green', label='normal')\n",
      "ax.view_init(elev=10., azim=40)"
     ],
     "language": "python",
     "metadata": {},
     "outputs": [
      {
       "metadata": {},
       "output_type": "display_data",
       "png": "[encoded data removed]",
       "text": [
        "<matplotlib.figure.Figure at 0x121d77b90>"
       ]
      }
     ],
     "prompt_number": 119
    },
    {
     "cell_type": "code",
     "collapsed": false,
     "input": [
      "plot(prostate_x[ixp, i], np.zeros((len(ixp),)), 'og')\n",
      "plot(prostate_x[ixn, i], np.zeros((len(ixn),)), '*r')"
     ],
     "language": "python",
     "metadata": {},
     "outputs": [
      {
       "metadata": {},
       "output_type": "pyout",
       "prompt_number": 120,
       "text": [
        "[<matplotlib.lines.Line2D at 0x121d709d0>]"
       ]
      },
      {
       "metadata": {},
       "output_type": "display_data",
       "png": "[encoded data removed]",
       "text": [
        "<matplotlib.figure.Figure at 0x121d704d0>"
       ]
      }
     ],
     "prompt_number": 120
    },
    {
     "cell_type": "code",
     "collapsed": false,
     "input": [
      "# histogram of t column\n",
      "prostate_df.t.hist()\n",
      "plt.title('Histogram of t')\n",
      "plt.xlabel('t')\n",
      "plt.ylabel('Frequency')"
     ],
     "language": "python",
     "metadata": {},
     "outputs": [
      {
       "metadata": {},
       "output_type": "pyout",
       "prompt_number": 122,
       "text": [
        "<matplotlib.text.Text at 0x1085b5990>"
       ]
      },
      {
       "metadata": {},
       "output_type": "display_data",
       "png": "[encoded data removed]",
       "text": [
        "<matplotlib.figure.Figure at 0x121d2ded0>"
       ]
      }
     ],
     "prompt_number": 122
    },
    {
     "cell_type": "code",
     "collapsed": false,
     "input": [
      "# histogram of '31308_at' column\n",
      "prostate_df['31308_at'].hist()\n",
      "plt.title('Histogram of 31308_at')\n",
      "plt.xlabel('31308_at ')\n",
      "plt.ylabel('Frequency')\n",
      "\n",
      "# barplot of marriage rating grouped by affair (True or False)\n",
      "pd.crosstab(prostate_df['31308_at'], prostate_df['class']).plot(kind='bar')\n",
      "plt.title('\\'31308_at\\' Gene Distribution by Class Label')\n",
      "plt.xlabel('31308_at')\n",
      "plt.ylabel('Frequency')"
     ],
     "language": "python",
     "metadata": {},
     "outputs": [
      {
       "metadata": {},
       "output_type": "pyout",
       "prompt_number": 123,
       "text": [
        "<matplotlib.text.Text at 0x108768590>"
       ]
      },
      {
       "metadata": {},
       "output_type": "display_data",
       "png": "[encoded data removed]",
       "text": [
        "<matplotlib.figure.Figure at 0x1086b5f50>"
       ]
      },
      {
       "metadata": {},
       "output_type": "display_data",
       "png": "[encoded data removed]",
       "text": [
        "<matplotlib.figure.Figure at 0x108747e90>"
       ]
      }
     ],
     "prompt_number": 123
    },
    {
     "cell_type": "code",
     "collapsed": false,
     "input": [],
     "language": "python",
     "metadata": {},
     "outputs": []
    }
   ],
   "metadata": {}
  }
 ]
}