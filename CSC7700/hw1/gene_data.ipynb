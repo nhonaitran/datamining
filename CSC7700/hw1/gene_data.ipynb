{
 "metadata": {
  "name": "",
  "signature": "sha256:89039163ab436ade39de2082ebc783d719ba396f90e9e7299daae0c91a224da3"
 },
 "nbformat": 3,
 "nbformat_minor": 0,
 "worksheets": [
  {
   "cells": [
    {
     "cell_type": "markdown",
     "metadata": {},
     "source": [
      "# CSC7700 HomeWork 1\n",
      "\n",
      "\n",
      "### Due Feb. 19th, by end of day. \n",
      "\n",
      "### Do all your work in this notebook and submit your notebook "
     ]
    },
    {
     "cell_type": "code",
     "collapsed": false,
     "input": [
      "from collections import Counter\n",
      "import pandas as pd\n",
      "import numpy as np\n",
      "import matplotlib.pyplot as plt\n",
      "from sklearn.linear_model import LogisticRegression\n",
      "from sklearn.tree import DecisionTreeClassifier\n",
      "from sklearn.svm import SVC\n",
      "from sklearn.cross_validation import train_test_split\n",
      "from sklearn import metrics\n",
      "from sklearn.cross_validation import cross_val_score\n",
      "from sklearn.svm import l1_min_c"
     ],
     "language": "python",
     "metadata": {},
     "outputs": [],
     "prompt_number": 145
    },
    {
     "cell_type": "code",
     "collapsed": false,
     "input": [
      "# import Orange\n",
      "\n",
      "# def column2df(col):\n",
      "#     if type(col.domain[0]) is Orange.feature.Continuous:\n",
      "#         return (col.domain[0].name, pd.Series(col.to_numpy()[0].flatten()))\n",
      "#     else:\n",
      "#         tmp = pd.Series(np.array(list(col)).flatten())  \n",
      "#         tmp = tmp.apply(lambda x: str(x[0]))\n",
      "#         return (col.domain[0].name, tmp)\n",
      "\n",
      "# def table2df(tab):\n",
      "#     series = [column2df(tab.select(i)) for i in xrange(len(tab.domain))]\n",
      "#     series_name = [i[0] for i in series]  \n",
      "#     series_data = dict(series)\n",
      "#     return pd.DataFrame(series_data, columns=series_name)"
     ],
     "language": "python",
     "metadata": {},
     "outputs": [],
     "prompt_number": 146
    },
    {
     "cell_type": "markdown",
     "metadata": {},
     "source": [
      "## Lung Cancer Dataset\n",
      "\n",
      "The dataset contains gene expressions for four different lung tumors (adenocarcinomas, small-cell lung carcinomas, squamous cell carcinomas and carcinoids) and normal lung tissue.\n",
      "\n",
      "Platform: Affymetrix Human Genome U95Av2 Array\n",
      "\n",
      "Diagnostic classes:\n",
      "    - adenocarcinoma (AD): 139 examples (68.5%)\n",
      "    - normal lung (NL): 17 examples (8.4%)\n",
      "    - small cell lung cancer (SMCL): 6 examples (3.0%)\n",
      "    - squamous cell carcinoma (SQ): 21 examples (10.3%)\n",
      "    - pulmonary carcinoid (COID): 20 examples (9.9%)\n",
      "\n",
      "Number of genes: 12600 <br>\n",
      "Number of samples: 203"
     ]
    },
    {
     "cell_type": "code",
     "collapsed": false,
     "input": [
      "#data1 = Orange.data.Table('lung.tab')\n",
      "#data1 = table2df(data1)\n",
      "#data1.to_pickle('lung.df')\n",
      "\n",
      "lung_df = pd.read_pickle('lung.df')"
     ],
     "language": "python",
     "metadata": {},
     "outputs": [],
     "prompt_number": 147
    },
    {
     "cell_type": "code",
     "collapsed": false,
     "input": [
      "lung_df.head()"
     ],
     "language": "python",
     "metadata": {},
     "outputs": [
      {
       "html": [
        "<div style=\"max-height:1000px;max-width:1500px;overflow:auto;\">\n",
        "<table border=\"1\" class=\"dataframe\">\n",
        "  <thead>\n",
        "    <tr style=\"text-align: right;\">\n",
        "      <th></th>\n",
        "      <th>38691_s_at</th>\n",
        "      <th>37864_s_at</th>\n",
        "      <th>33273_f_at</th>\n",
        "      <th>33274_f_at</th>\n",
        "      <th>33501_r_at</th>\n",
        "      <th>33500_i_at</th>\n",
        "      <th>33499_s_at</th>\n",
        "      <th>41164_at</th>\n",
        "      <th>38194_s_at</th>\n",
        "      <th>37004_at</th>\n",
        "      <th>...</th>\n",
        "      <th>32086_at</th>\n",
        "      <th>33886_at</th>\n",
        "      <th>31781_at</th>\n",
        "      <th>AFFX-BioC-3_at</th>\n",
        "      <th>41422_at</th>\n",
        "      <th>39964_at</th>\n",
        "      <th>36120_at</th>\n",
        "      <th>40571_at</th>\n",
        "      <th>36312_at</th>\n",
        "      <th>class</th>\n",
        "    </tr>\n",
        "  </thead>\n",
        "  <tbody>\n",
        "    <tr>\n",
        "      <th>0</th>\n",
        "      <td>   63.200001</td>\n",
        "      <td> 4196.250000</td>\n",
        "      <td> 3306.350098</td>\n",
        "      <td> 3330.860107</td>\n",
        "      <td> 1609.469971</td>\n",
        "      <td> 1597.319946</td>\n",
        "      <td> 1233.890015</td>\n",
        "      <td>  255.139999</td>\n",
        "      <td> 3036.530029</td>\n",
        "      <td>    8.920000</td>\n",
        "      <td>...</td>\n",
        "      <td> 18.629999</td>\n",
        "      <td> 51.040001</td>\n",
        "      <td>-13.740</td>\n",
        "      <td>-29.120001</td>\n",
        "      <td>-28.309999</td>\n",
        "      <td> 20.250000</td>\n",
        "      <td> 28.350000</td>\n",
        "      <td>  4.060</td>\n",
        "      <td>-19.41</td>\n",
        "      <td> AD</td>\n",
        "    </tr>\n",
        "    <tr>\n",
        "      <th>1</th>\n",
        "      <td>  965.469971</td>\n",
        "      <td> 6207.609863</td>\n",
        "      <td> 7077.040039</td>\n",
        "      <td> 6968.589844</td>\n",
        "      <td> 6569.859863</td>\n",
        "      <td> 6419.189941</td>\n",
        "      <td> 6908.339844</td>\n",
        "      <td> 4785.759766</td>\n",
        "      <td> 4562.189941</td>\n",
        "      <td> 1120.099976</td>\n",
        "      <td>...</td>\n",
        "      <td>  5.940000</td>\n",
        "      <td> 28.230000</td>\n",
        "      <td> -4.680</td>\n",
        "      <td>-13.180000</td>\n",
        "      <td>-13.180000</td>\n",
        "      <td> 21.860001</td>\n",
        "      <td>  9.120000</td>\n",
        "      <td> 11.240</td>\n",
        "      <td>  8.06</td>\n",
        "      <td> AD</td>\n",
        "    </tr>\n",
        "    <tr>\n",
        "      <th>2</th>\n",
        "      <td> 2940.510010</td>\n",
        "      <td> 6858.120117</td>\n",
        "      <td> 6927.790039</td>\n",
        "      <td> 6495.990234</td>\n",
        "      <td> 5273.470215</td>\n",
        "      <td> 4672.479980</td>\n",
        "      <td> 5474.669922</td>\n",
        "      <td> 2140.989990</td>\n",
        "      <td> 5120.390137</td>\n",
        "      <td> 1212.900024</td>\n",
        "      <td>...</td>\n",
        "      <td>  4.725000</td>\n",
        "      <td> 17.280001</td>\n",
        "      <td> -6.590</td>\n",
        "      <td>-17.969999</td>\n",
        "      <td>-16.070000</td>\n",
        "      <td> 10.195000</td>\n",
        "      <td> 17.285000</td>\n",
        "      <td>  6.920</td>\n",
        "      <td>-11.09</td>\n",
        "      <td> AD</td>\n",
        "    </tr>\n",
        "    <tr>\n",
        "      <th>3</th>\n",
        "      <td>   64.070000</td>\n",
        "      <td> 7016.910156</td>\n",
        "      <td> 7132.049805</td>\n",
        "      <td> 6983.439941</td>\n",
        "      <td> 6284.959961</td>\n",
        "      <td> 5504.680176</td>\n",
        "      <td> 6097.270020</td>\n",
        "      <td> 5885.410156</td>\n",
        "      <td> 5446.040039</td>\n",
        "      <td> 4422.720215</td>\n",
        "      <td>...</td>\n",
        "      <td> 11.930000</td>\n",
        "      <td> 38.755001</td>\n",
        "      <td> -5.005</td>\n",
        "      <td>-21.445000</td>\n",
        "      <td>-24.334999</td>\n",
        "      <td> 14.355000</td>\n",
        "      <td> 39.200001</td>\n",
        "      <td> 12.335</td>\n",
        "      <td>  7.41</td>\n",
        "      <td> AD</td>\n",
        "    </tr>\n",
        "    <tr>\n",
        "      <th>4</th>\n",
        "      <td> 3451.939941</td>\n",
        "      <td> 6281.060059</td>\n",
        "      <td> 6650.540039</td>\n",
        "      <td> 6858.680176</td>\n",
        "      <td> 6007.370117</td>\n",
        "      <td> 5517.950195</td>\n",
        "      <td> 5729.060059</td>\n",
        "      <td> 3245.639893</td>\n",
        "      <td> 5717.879883</td>\n",
        "      <td> 4116.729980</td>\n",
        "      <td>...</td>\n",
        "      <td>-12.110000</td>\n",
        "      <td> 32.450001</td>\n",
        "      <td>-16.170</td>\n",
        "      <td>-13.130000</td>\n",
        "      <td>-18.190001</td>\n",
        "      <td> 11.180000</td>\n",
        "      <td> 14.220000</td>\n",
        "      <td>  5.110</td>\n",
        "      <td> -8.06</td>\n",
        "      <td> AD</td>\n",
        "    </tr>\n",
        "  </tbody>\n",
        "</table>\n",
        "<p>5 rows \u00d7 12601 columns</p>\n",
        "</div>"
       ],
       "metadata": {},
       "output_type": "pyout",
       "prompt_number": 148,
       "text": [
        "    38691_s_at   37864_s_at   33273_f_at   33274_f_at   33501_r_at  \\\n",
        "0    63.200001  4196.250000  3306.350098  3330.860107  1609.469971   \n",
        "1   965.469971  6207.609863  7077.040039  6968.589844  6569.859863   \n",
        "2  2940.510010  6858.120117  6927.790039  6495.990234  5273.470215   \n",
        "3    64.070000  7016.910156  7132.049805  6983.439941  6284.959961   \n",
        "4  3451.939941  6281.060059  6650.540039  6858.680176  6007.370117   \n",
        "\n",
        "    33500_i_at   33499_s_at     41164_at   38194_s_at     37004_at  ...    \\\n",
        "0  1597.319946  1233.890015   255.139999  3036.530029     8.920000  ...     \n",
        "1  6419.189941  6908.339844  4785.759766  4562.189941  1120.099976  ...     \n",
        "2  4672.479980  5474.669922  2140.989990  5120.390137  1212.900024  ...     \n",
        "3  5504.680176  6097.270020  5885.410156  5446.040039  4422.720215  ...     \n",
        "4  5517.950195  5729.060059  3245.639893  5717.879883  4116.729980  ...     \n",
        "\n",
        "    32086_at   33886_at  31781_at  AFFX-BioC-3_at   41422_at   39964_at  \\\n",
        "0  18.629999  51.040001   -13.740      -29.120001 -28.309999  20.250000   \n",
        "1   5.940000  28.230000    -4.680      -13.180000 -13.180000  21.860001   \n",
        "2   4.725000  17.280001    -6.590      -17.969999 -16.070000  10.195000   \n",
        "3  11.930000  38.755001    -5.005      -21.445000 -24.334999  14.355000   \n",
        "4 -12.110000  32.450001   -16.170      -13.130000 -18.190001  11.180000   \n",
        "\n",
        "    36120_at  40571_at  36312_at  class  \n",
        "0  28.350000     4.060    -19.41     AD  \n",
        "1   9.120000    11.240      8.06     AD  \n",
        "2  17.285000     6.920    -11.09     AD  \n",
        "3  39.200001    12.335      7.41     AD  \n",
        "4  14.220000     5.110     -8.06     AD  \n",
        "\n",
        "[5 rows x 12601 columns]"
       ]
      }
     ],
     "prompt_number": 148
    },
    {
     "cell_type": "code",
     "collapsed": false,
     "input": [
      "lung_y = lung_df.values[:, -1]\n",
      "print(lung_y.shape, Counter(lung_y.tolist()))"
     ],
     "language": "python",
     "metadata": {},
     "outputs": [
      {
       "output_type": "stream",
       "stream": "stdout",
       "text": [
        "((203,), Counter({'AD': 139, 'SQ': 21, 'COID': 20, 'NL': 17, 'SMCL': 6}))\n"
       ]
      }
     ],
     "prompt_number": 149
    },
    {
     "cell_type": "code",
     "collapsed": false,
     "input": [
      "lung_x = lung_df.values[:, :-1]\n",
      "print(lung_x.shape)"
     ],
     "language": "python",
     "metadata": {},
     "outputs": [
      {
       "output_type": "stream",
       "stream": "stdout",
       "text": [
        "(203, 12600)\n"
       ]
      }
     ],
     "prompt_number": 150
    },
    {
     "cell_type": "markdown",
     "metadata": {},
     "source": [
      "## Prostate Cancer Dataset\n",
      "\n",
      "Gene expression measurements for samples of prostate tumors and adjacent prostate tissue not containing tumor.\n",
      "\n",
      "Platform: Affymetrix Human Genome U95Av2 Array\n",
      "\n",
      "Diagnostic classes:\n",
      "    - normal tissue (normal): 50 examples (49.0%)\n",
      "    - prostate tumor (tumor): 52 examples (51.0%)\n",
      "\n",
      "Number of genes: 12533 <br>\n",
      "Number of samples: 102"
     ]
    },
    {
     "cell_type": "code",
     "collapsed": false,
     "input": [
      "#data2 = Orange.data.Table('prostata.tab')\n",
      "#data2 = table2df(data2)\n",
      "#data2.to_pickle('prostate.df')\n",
      "\n",
      "prostate_df = pd.read_pickle('prostate.df')"
     ],
     "language": "python",
     "metadata": {},
     "outputs": [],
     "prompt_number": 151
    },
    {
     "cell_type": "code",
     "collapsed": false,
     "input": [
      "prostate_df.head()"
     ],
     "language": "python",
     "metadata": {},
     "outputs": [
      {
       "html": [
        "<div style=\"max-height:1000px;max-width:1500px;overflow:auto;\">\n",
        "<table border=\"1\" class=\"dataframe\">\n",
        "  <thead>\n",
        "    <tr style=\"text-align: right;\">\n",
        "      <th></th>\n",
        "      <th>t</th>\n",
        "      <th>31308_at</th>\n",
        "      <th>31309_r_at</th>\n",
        "      <th>31310_at</th>\n",
        "      <th>31311_at</th>\n",
        "      <th>31312_at</th>\n",
        "      <th>31313_at</th>\n",
        "      <th>31314_at</th>\n",
        "      <th>31315_at</th>\n",
        "      <th>31316_at</th>\n",
        "      <th>...</th>\n",
        "      <th>101_at</th>\n",
        "      <th>102_at</th>\n",
        "      <th>103_at</th>\n",
        "      <th>104_at</th>\n",
        "      <th>105_at</th>\n",
        "      <th>106_at</th>\n",
        "      <th>107_at</th>\n",
        "      <th>108_g_at</th>\n",
        "      <th>109_at</th>\n",
        "      <th>class</th>\n",
        "    </tr>\n",
        "  </thead>\n",
        "  <tbody>\n",
        "    <tr>\n",
        "      <th>0</th>\n",
        "      <td>-11.4</td>\n",
        "      <td>  2.7</td>\n",
        "      <td>  0.6</td>\n",
        "      <td> 4.3</td>\n",
        "      <td> 28</td>\n",
        "      <td>  0.3</td>\n",
        "      <td>-17.5</td>\n",
        "      <td> -5.4</td>\n",
        "      <td>  7.5</td>\n",
        "      <td>-0.9</td>\n",
        "      <td>...</td>\n",
        "      <td>  4.1</td>\n",
        "      <td>  2.5</td>\n",
        "      <td>  5</td>\n",
        "      <td> 22.5</td>\n",
        "      <td>  7.3</td>\n",
        "      <td> 14</td>\n",
        "      <td> 19.299999</td>\n",
        "      <td> -39.5</td>\n",
        "      <td> 37.299999</td>\n",
        "      <td> normal</td>\n",
        "    </tr>\n",
        "    <tr>\n",
        "      <th>1</th>\n",
        "      <td> -1.0</td>\n",
        "      <td> -1.0</td>\n",
        "      <td>  0.0</td>\n",
        "      <td>-1.0</td>\n",
        "      <td>  3</td>\n",
        "      <td>  0.0</td>\n",
        "      <td> -3.0</td>\n",
        "      <td>  1.0</td>\n",
        "      <td> -2.0</td>\n",
        "      <td> 0.0</td>\n",
        "      <td>...</td>\n",
        "      <td> 10.0</td>\n",
        "      <td>  2.0</td>\n",
        "      <td>  4</td>\n",
        "      <td>  5.0</td>\n",
        "      <td>  1.0</td>\n",
        "      <td>  6</td>\n",
        "      <td>  6.000000</td>\n",
        "      <td>   0.0</td>\n",
        "      <td> 26.000000</td>\n",
        "      <td> normal</td>\n",
        "    </tr>\n",
        "    <tr>\n",
        "      <th>2</th>\n",
        "      <td> -9.0</td>\n",
        "      <td>-19.0</td>\n",
        "      <td>  0.0</td>\n",
        "      <td> 0.0</td>\n",
        "      <td> 76</td>\n",
        "      <td>  9.0</td>\n",
        "      <td>-57.0</td>\n",
        "      <td> 35.0</td>\n",
        "      <td> 23.0</td>\n",
        "      <td> 3.0</td>\n",
        "      <td>...</td>\n",
        "      <td>-66.0</td>\n",
        "      <td> 12.0</td>\n",
        "      <td> 14</td>\n",
        "      <td> 59.0</td>\n",
        "      <td> 16.0</td>\n",
        "      <td>-13</td>\n",
        "      <td>-10.000000</td>\n",
        "      <td>-156.0</td>\n",
        "      <td>-21.000000</td>\n",
        "      <td> normal</td>\n",
        "    </tr>\n",
        "    <tr>\n",
        "      <th>3</th>\n",
        "      <td>-16.0</td>\n",
        "      <td> -6.0</td>\n",
        "      <td>-16.0</td>\n",
        "      <td> 1.0</td>\n",
        "      <td> 67</td>\n",
        "      <td> -1.0</td>\n",
        "      <td>-57.0</td>\n",
        "      <td> -7.0</td>\n",
        "      <td>  6.0</td>\n",
        "      <td> 0.0</td>\n",
        "      <td>...</td>\n",
        "      <td>-14.0</td>\n",
        "      <td>  0.0</td>\n",
        "      <td> 23</td>\n",
        "      <td> 35.0</td>\n",
        "      <td>  5.0</td>\n",
        "      <td> 25</td>\n",
        "      <td>-27.000000</td>\n",
        "      <td>-103.0</td>\n",
        "      <td>  0.000000</td>\n",
        "      <td> normal</td>\n",
        "    </tr>\n",
        "    <tr>\n",
        "      <th>4</th>\n",
        "      <td> -7.0</td>\n",
        "      <td>-17.0</td>\n",
        "      <td>  1.0</td>\n",
        "      <td>-3.0</td>\n",
        "      <td> 57</td>\n",
        "      <td>-18.0</td>\n",
        "      <td>-46.0</td>\n",
        "      <td>  8.0</td>\n",
        "      <td> 39.0</td>\n",
        "      <td> 0.0</td>\n",
        "      <td>...</td>\n",
        "      <td>-41.0</td>\n",
        "      <td> 16.0</td>\n",
        "      <td> 18</td>\n",
        "      <td> 49.0</td>\n",
        "      <td> 29.0</td>\n",
        "      <td> 32</td>\n",
        "      <td> 30.000000</td>\n",
        "      <td> -89.0</td>\n",
        "      <td>-13.000000</td>\n",
        "      <td> normal</td>\n",
        "    </tr>\n",
        "  </tbody>\n",
        "</table>\n",
        "<p>5 rows \u00d7 12534 columns</p>\n",
        "</div>"
       ],
       "metadata": {},
       "output_type": "pyout",
       "prompt_number": 152,
       "text": [
        "      t  31308_at  31309_r_at  31310_at  31311_at  31312_at  31313_at  \\\n",
        "0 -11.4       2.7         0.6       4.3        28       0.3     -17.5   \n",
        "1  -1.0      -1.0         0.0      -1.0         3       0.0      -3.0   \n",
        "2  -9.0     -19.0         0.0       0.0        76       9.0     -57.0   \n",
        "3 -16.0      -6.0       -16.0       1.0        67      -1.0     -57.0   \n",
        "4  -7.0     -17.0         1.0      -3.0        57     -18.0     -46.0   \n",
        "\n",
        "   31314_at  31315_at  31316_at   ...    101_at  102_at  103_at  104_at  \\\n",
        "0      -5.4       7.5      -0.9   ...       4.1     2.5       5    22.5   \n",
        "1       1.0      -2.0       0.0   ...      10.0     2.0       4     5.0   \n",
        "2      35.0      23.0       3.0   ...     -66.0    12.0      14    59.0   \n",
        "3      -7.0       6.0       0.0   ...     -14.0     0.0      23    35.0   \n",
        "4       8.0      39.0       0.0   ...     -41.0    16.0      18    49.0   \n",
        "\n",
        "   105_at  106_at     107_at  108_g_at     109_at   class  \n",
        "0     7.3      14  19.299999     -39.5  37.299999  normal  \n",
        "1     1.0       6   6.000000       0.0  26.000000  normal  \n",
        "2    16.0     -13 -10.000000    -156.0 -21.000000  normal  \n",
        "3     5.0      25 -27.000000    -103.0   0.000000  normal  \n",
        "4    29.0      32  30.000000     -89.0 -13.000000  normal  \n",
        "\n",
        "[5 rows x 12534 columns]"
       ]
      }
     ],
     "prompt_number": 152
    },
    {
     "cell_type": "code",
     "collapsed": false,
     "input": [
      "prostate_y = prostate_df.values[:, -1]\n",
      "print \"Class label: \", Counter(prostate_y.tolist())\n",
      "\n",
      "prostate_x = prostate_df.values[:, :-1]\n",
      "N,d = prostate_x.shape\n",
      "print \"Size =\", N, \"; dimensions =\", d "
     ],
     "language": "python",
     "metadata": {},
     "outputs": [
      {
       "output_type": "stream",
       "stream": "stdout",
       "text": [
        "Class label:  Counter({'tumor': 52, 'normal': 50})\n",
        "Size = 102 ; dimensions = 12533\n"
       ]
      }
     ],
     "prompt_number": 196
    },
    {
     "cell_type": "heading",
     "level": 4,
     "metadata": {},
     "source": [
      "Split data set into training and testing data sets, 70%/30% respectively."
     ]
    },
    {
     "cell_type": "code",
     "collapsed": false,
     "input": [
      "X_train, X_test, y_train, y_test = train_test_split(prostate_x, prostate_y, test_size=0.3, random_state=0)\n",
      "print \"Training data set:\"\n",
      "print X_train.shape\n",
      "print y_train.shape, Counter(y_train.tolist())\n",
      "\n",
      "print \"Testing data set:\"\n",
      "print X_test.shape\n",
      "print y_test.shape, Counter(y_test.tolist())"
     ],
     "language": "python",
     "metadata": {},
     "outputs": [
      {
       "output_type": "stream",
       "stream": "stdout",
       "text": [
        "Training data set:\n",
        "(71, 12533)\n",
        "(71,) Counter({'tumor': 36, 'normal': 35})\n",
        "Testing data set:\n",
        "(31, 12533)\n",
        "(31,) Counter({'tumor': 16, 'normal': 15})\n"
       ]
      }
     ],
     "prompt_number": 202
    },
    {
     "cell_type": "heading",
     "level": 4,
     "metadata": {},
     "source": [
      "Fit using Logistic Regression"
     ]
    },
    {
     "cell_type": "code",
     "collapsed": false,
     "input": [
      "# fit logistic regresion model to training data set\n",
      "model = LogisticRegression(penalty='l1')\n",
      "model.fit(X_train, y_train)\n",
      "print \"Training set accuracy: \", model.score(X_train, y_train)"
     ],
     "language": "python",
     "metadata": {},
     "outputs": [
      {
       "output_type": "stream",
       "stream": "stdout",
       "text": [
        "Training set accuracy:  "
       ]
      },
      {
       "output_type": "stream",
       "stream": "stdout",
       "text": [
        "1.0\n"
       ]
      }
     ],
     "prompt_number": 156
    },
    {
     "cell_type": "code",
     "collapsed": false,
     "input": [
      "# predict class label for test set\n",
      "predicted = model.predict(X_test)"
     ],
     "language": "python",
     "metadata": {},
     "outputs": [],
     "prompt_number": 157
    },
    {
     "cell_type": "code",
     "collapsed": false,
     "input": [
      "# generate class probabilities\n",
      "#model.predict_proba(X_test)"
     ],
     "language": "python",
     "metadata": {},
     "outputs": [],
     "prompt_number": 158
    },
    {
     "cell_type": "code",
     "collapsed": false,
     "input": [
      "# generate evaluation metrics\n",
      "print \"Testing set accuracy:\", model.score(X_test, y_test)\n",
      "#print metrics.roc_auc_score(y_test, probs[:, 1])\n",
      "\n",
      "print \"Confusion matrix: \"\n",
      "print metrics.confusion_matrix(y_test, predicted)\n",
      "print metrics.classification_report(y_test, predicted)"
     ],
     "language": "python",
     "metadata": {},
     "outputs": [
      {
       "output_type": "stream",
       "stream": "stdout",
       "text": [
        "Testing set accuracy: "
       ]
      },
      {
       "output_type": "stream",
       "stream": "stdout",
       "text": [
        "0.870967741935\n",
        "Confusion matrix: \n",
        "[[15  0]\n",
        " [ 4 12]]\n",
        "             precision    recall  f1-score   support\n",
        "\n",
        "     normal       0.79      1.00      0.88        15\n",
        "      tumor       1.00      0.75      0.86        16\n",
        "\n",
        "avg / total       0.90      0.87      0.87        31\n",
        "\n"
       ]
      }
     ],
     "prompt_number": 159
    },
    {
     "cell_type": "code",
     "collapsed": false,
     "input": [
      "# test model with 10-fold cross-validation\n",
      "scores = cross_val_score(LogisticRegression(), prostate_x, prostate_y, scoring='accuracy', cv=10)\n",
      "print scores\n",
      "print \"10-fold cross validation mean accuracy: \", scores.mean()"
     ],
     "language": "python",
     "metadata": {},
     "outputs": [
      {
       "output_type": "stream",
       "stream": "stdout",
       "text": [
        "[ 1.   1.   0.9  0.9  1.   0.9  0.8  0.8  0.9  1. ]\n",
        "10-fold cross validation mean accuracy:  0.92\n"
       ]
      }
     ],
     "prompt_number": 161
    },
    {
     "cell_type": "code",
     "collapsed": false,
     "input": [
      "Cs = l1_min_c(X_train, y_train, loss='log') * np.logspace(0, 3)\n",
      "\n",
      "lr_classifier = LogisticRegression(C=1.0, penalty='l1')\n",
      "accuracy = []\n",
      "for c in Cs:\n",
      "    # set new value for C model parameter\n",
      "    lr_classifier.set_params(C=c)\n",
      "\n",
      "    # train model\n",
      "    lr_classifier.fit(X_train, y_train)\n",
      "\n",
      "    # compute 10-fold cross-validation precision score for specified C value\n",
      "    scores = cross_val_score(lr_classifier, X_train, y_train, scoring='accuracy', cv=10)\n",
      "\n",
      "    # store results\n",
      "    accuracy.append(scores.mean())\n",
      "\n",
      "plt.plot(np.log10(Cs), accuracy)\n",
      "ymin, ymax = plt.ylim()\n",
      "plt.xlabel('log(C)')\n",
      "plt.ylabel('Accuracy')\n",
      "plt.title('Classification Performance using Logistic Regression \\n Prostate Cancer Data Set')\n",
      "plt.axis('tight')\n",
      "plt.show()"
     ],
     "language": "python",
     "metadata": {},
     "outputs": [
      {
       "metadata": {},
       "output_type": "display_data",
       "png": "[encoded data removed]",
       "text": [
        "<matplotlib.figure.Figure at 0x10a9d59d0>"
       ]
      }
     ],
     "prompt_number": 203
    },
    {
     "cell_type": "heading",
     "level": 4,
     "metadata": {},
     "source": [
      "Fit using Support Vector Machines (SVM)"
     ]
    },
    {
     "cell_type": "code",
     "collapsed": false,
     "input": [
      "# Linear kernel\n",
      "svm_linear_classifier = SVC(kernel='linear')\n",
      "accuracy = []\n",
      "\n",
      "for c in Cs:\n",
      "    # set new value for C model parameter\n",
      "    svm_linear_classifier.set_params(C=c)\n",
      "    \n",
      "    # train model\n",
      "    svm_linear_classifier.fit(X_train, y_train)\n",
      "    \n",
      "    # compute 10-fold cross-validation precision score for specified C value\n",
      "    accuracy_scores = cross_val_score(svm_linear_classifier, X_train, y_train, scoring='accuracy', cv=10)\n",
      "    \n",
      "    # store results\n",
      "    accuracy.append(accuracy_scores.mean())\n",
      "\n",
      "# plot precision for C values\n",
      "plt.plot(np.log10(Cs), accuracy)\n",
      "ymin, ymax = plt.ylim()\n",
      "plt.xlabel('log(C)')\n",
      "plt.ylabel('Accuracy')\n",
      "plt.title('Classification Performance using SVM (Linear Kernel) \\n Prostate Cancer Data Set')\n",
      "plt.axis('tight')\n",
      "plt.show()"
     ],
     "language": "python",
     "metadata": {},
     "outputs": [
      {
       "metadata": {},
       "output_type": "display_data",
       "png": "[encoded data removed]",
       "text": [
        "<matplotlib.figure.Figure at 0x10abfe4d0>"
       ]
      }
     ],
     "prompt_number": 205
    },
    {
     "cell_type": "markdown",
     "metadata": {},
     "source": [
      "## Task 1\n",
      "Try both \n",
      " * logistic regression (with l1 regularization)\n",
      " * decision tree\n",
      " \n",
      "classifiers on the above two datasets. For each combination of classifier and dataset, find:\n",
      "\n",
      " * how well the model/classifier can fit the data, i.e. what is the best training accuracy?\n",
      " * how well the model/classifier can generalize, i.e., what is the best 10-fold cross-validation accuracy?\n",
      " * the best is with respect to the choice of model parameter:\n",
      "   - for logit, consider different values for the regularization strength ('C').\n",
      "   - for DT, consider different values for the max depth of the tree ('max_depth') and min number of samples required to be a lead node ('min-samples_leaf')"
     ]
    },
    {
     "cell_type": "markdown",
     "metadata": {},
     "source": [
      "## Task 2\n",
      "Try SVM classification on the two datasets using:\n",
      " * linear kernel\n",
      " * rbf kernel\n",
      " * polynomial kernel\n",
      "\n",
      "You need to tune the SVM model parameter 'C' \n",
      "as well as kernel parameter (if the kernel requires one) \n",
      "to find the best generalization (10 fold CV). "
     ]
    },
    {
     "cell_type": "markdown",
     "metadata": {},
     "source": [
      "## Task 3\n",
      "Consider linear SVM model and the prostate cancer dataset. Find the precision and recall of the model using 10-fold CV. \n",
      "Vary the model parameter 'C' and plot precision vs 'C' and recall vs 'C'.\n",
      "\n",
      "Definitions:\n",
      "* Precision: (# of persons who have cancer and also are labeled by SVM to have cancer)/(# of persons labeled by SVM to have cancer)\n",
      "* Recall (# of persons who have cancer and also are labeled by SVM to have cancer)/(# of persons who have cancer)"
     ]
    },
    {
     "cell_type": "markdown",
     "metadata": {},
     "source": [
      "## Exploring Data"
     ]
    },
    {
     "cell_type": "code",
     "collapsed": false,
     "input": [
      "from mpl_toolkits.mplot3d import Axes3D\n",
      "\n",
      "ixp = np.nonzero(prostate_y=='tumor')[0]\n",
      "ixn = np.nonzero(prostate_y=='normal')[0]\n",
      "\n",
      "i, j, k = 2, 3, 4\n",
      "\n",
      "fig = plt.figure(figsize=(8,8))\n",
      "ax = fig.add_subplot(111, projection='3d')  \n",
      "ax.scatter(prostate_x[ixp, i], prostate_x[ixp, j], prostate_x[ixp, k], marker='x', color='red', label='tumor')\n",
      "ax.scatter(prostate_x[ixn, i], prostate_x[ixn, j], prostate_x[ixn, k], marker='o', color='green', label='normal')\n",
      "ax.view_init(elev=10., azim=40)"
     ],
     "language": "python",
     "metadata": {},
     "outputs": [
      {
       "metadata": {},
       "output_type": "display_data",
       "png": "[encoded data removed]",
       "text": [
        "<matplotlib.figure.Figure at 0x121d77b90>"
       ]
      }
     ],
     "prompt_number": 119
    },
    {
     "cell_type": "code",
     "collapsed": false,
     "input": [
      "plot(prostate_x[ixp, i], np.zeros((len(ixp),)), 'og')\n",
      "plot(prostate_x[ixn, i], np.zeros((len(ixn),)), '*r')"
     ],
     "language": "python",
     "metadata": {},
     "outputs": [
      {
       "metadata": {},
       "output_type": "pyout",
       "prompt_number": 120,
       "text": [
        "[<matplotlib.lines.Line2D at 0x121d709d0>]"
       ]
      },
      {
       "metadata": {},
       "output_type": "display_data",
       "png": "[encoded data removed]",
       "text": [
        "<matplotlib.figure.Figure at 0x121d704d0>"
       ]
      }
     ],
     "prompt_number": 120
    },
    {
     "cell_type": "code",
     "collapsed": false,
     "input": [
      "# histogram of t column\n",
      "prostate_df.t.hist()\n",
      "plt.title('Histogram of t')\n",
      "plt.xlabel('t')\n",
      "plt.ylabel('Frequency')"
     ],
     "language": "python",
     "metadata": {},
     "outputs": [
      {
       "metadata": {},
       "output_type": "pyout",
       "prompt_number": 122,
       "text": [
        "<matplotlib.text.Text at 0x1085b5990>"
       ]
      },
      {
       "metadata": {},
       "output_type": "display_data",
       "png": "[encoded data removed]",
       "text": [
        "<matplotlib.figure.Figure at 0x121d2ded0>"
       ]
      }
     ],
     "prompt_number": 122
    },
    {
     "cell_type": "code",
     "collapsed": false,
     "input": [
      "# histogram of '31308_at' column\n",
      "prostate_df['31308_at'].hist()\n",
      "plt.title('Histogram of 31308_at')\n",
      "plt.xlabel('31308_at ')\n",
      "plt.ylabel('Frequency')\n",
      "\n",
      "# barplot of marriage rating grouped by affair (True or False)\n",
      "pd.crosstab(prostate_df['31308_at'], prostate_df['class']).plot(kind='bar')\n",
      "plt.title('\\'31308_at\\' Gene Distribution by Class Label')\n",
      "plt.xlabel('31308_at')\n",
      "plt.ylabel('Frequency')"
     ],
     "language": "python",
     "metadata": {},
     "outputs": [
      {
       "metadata": {},
       "output_type": "pyout",
       "prompt_number": 123,
       "text": [
        "<matplotlib.text.Text at 0x108768590>"
       ]
      },
      {
       "metadata": {},
       "output_type": "display_data",
       "png": "[encoded data removed]",
       "text": [
        "<matplotlib.figure.Figure at 0x1086b5f50>"
       ]
      },
      {
       "metadata": {},
       "output_type": "display_data",
       "png": "[encoded data removed]",
       "text": [
        "<matplotlib.figure.Figure at 0x108747e90>"
       ]
      }
     ],
     "prompt_number": 123
    },
    {
     "cell_type": "code",
     "collapsed": false,
     "input": [],
     "language": "python",
     "metadata": {},
     "outputs": []
    }
   ],
   "metadata": {}
  }
 ]
}