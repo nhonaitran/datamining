{
 "metadata": {
  "name": "",
  "signature": "sha256:3e459779fdaa30705cfedea776759d921965910974b5f54d13ff6657a6b5de27"
 },
 "nbformat": 3,
 "nbformat_minor": 0,
 "worksheets": [
  {
   "cells": [
    {
     "cell_type": "markdown",
     "metadata": {},
     "source": [
      "# CSC7700 Homework 2\n",
      "### Due March 26th\n",
      "### Code and results that you need to submit in the notebook is highlighted with <font color='blue'> **boldface in blue** </font>.\n"
     ]
    },
    {
     "cell_type": "code",
     "collapsed": false,
     "input": [
      "from sklearn.datasets import load_digits \n",
      "from sklearn.svm import SVC\n",
      "from sklearn import cross_validation\n",
      "\n",
      "data = load_digits()\n",
      "X = data.data\n",
      "Y = data.target"
     ],
     "language": "python",
     "metadata": {},
     "outputs": [],
     "prompt_number": 46
    },
    {
     "cell_type": "code",
     "collapsed": false,
     "input": [
      "print X.shape, Y.shape\n",
      "print np.unique(Y)"
     ],
     "language": "python",
     "metadata": {},
     "outputs": [
      {
       "output_type": "stream",
       "stream": "stdout",
       "text": [
        "(1797, 64) (1797,)\n",
        "[0 1 2 3 4 5 6 7 8 9]\n"
       ]
      }
     ],
     "prompt_number": 47
    },
    {
     "cell_type": "code",
     "collapsed": false,
     "input": [
      "subplot(1, 2, 1)\n",
      "imshow(X[500].reshape((8,8)), cmap=cm.gray, interpolation='quadric')\n",
      "subplot(1, 2, 2)\n",
      "imshow(X[800].reshape((8,8)), cmap=cm.gray, interpolation='quadric')"
     ],
     "language": "python",
     "metadata": {},
     "outputs": [
      {
       "metadata": {},
       "output_type": "pyout",
       "prompt_number": 48,
       "text": [
        "<matplotlib.image.AxesImage at 0x10dff1b50>"
       ]
      },
      {
       "metadata": {},
       "output_type": "display_data",
       "png": "[encoded data removed]",
       "text": [
        "<matplotlib.figure.Figure at 0x10dfe7f90>"
       ]
      }
     ],
     "prompt_number": 48
    },
    {
     "cell_type": "code",
     "collapsed": false,
     "input": [
      "print X[0]\n"
     ],
     "language": "python",
     "metadata": {},
     "outputs": [
      {
       "output_type": "stream",
       "stream": "stdout",
       "text": [
        "[  0.   0.   5.  13.   9.   1.   0.   0.   0.   0.  13.  15.  10.  15.   5.\n",
        "   0.   0.   3.  15.   2.   0.  11.   8.   0.   0.   4.  12.   0.   0.   8.\n",
        "   8.   0.   0.   5.   8.   0.   0.   9.   8.   0.   0.   4.  11.   0.   1.\n",
        "  12.   7.   0.   0.   2.  14.   5.  10.  12.   0.   0.   0.   0.   6.  13.\n",
        "  10.   0.   0.   0.]\n"
       ]
      }
     ],
     "prompt_number": 49
    },
    {
     "cell_type": "markdown",
     "metadata": {},
     "source": [
      "## Task 1\n",
      "\n",
      "- Design a similarity measure that calculates similarity between any two digit images. \n",
      "- <font color='blue'> **Code** </font> your similarity measure as a function \"sim(x1, x2)\" where x1 and x2 are two images and your function should return the similarity value. \n",
      "- <font color='blue'> **Explain:** </font> give a short explanation on your design. \n",
      "\n",
      "<p><font color='red'> You must design your own similarity and CANNOT use any of the following standard measures: </font></p>"
     ]
    },
    {
     "cell_type": "markdown",
     "metadata": {},
     "source": [
      "- sim(x1, x2) = $x1\\circ x2$\n",
      "- sim(x1, x2) = $e^{(-||x1-x2||^2/L)}$\n",
      "- sim(x1, x2) = $(x1\\circ x2 + 1)^p$\n",
      "\n",
      "where $\\circ$ means vector dot product."
     ]
    },
    {
     "cell_type": "code",
     "collapsed": false,
     "input": [
      "def bitsoncount(x):\n",
      "    return bin(x).count('1')\n",
      "\n",
      "def sim(x1, x2):\n",
      "    # define similarity as the bit count where the same bit is on in both images\n",
      "    # the lower the value, the more similiar is the two images being compared.\n",
      "    score = 0\n",
      "    for i in range(x1.shape[0]):\n",
      "        score += bitsoncount(int(floor(x1[i]))^int(floor(x2[i])))\n",
      "    \n",
      "    return score"
     ],
     "language": "python",
     "metadata": {},
     "outputs": [],
     "prompt_number": 50
    },
    {
     "cell_type": "code",
     "collapsed": false,
     "input": [
      "score = sim(X[1],X[1])\n",
      "print score"
     ],
     "language": "python",
     "metadata": {},
     "outputs": [
      {
       "output_type": "stream",
       "stream": "stdout",
       "text": [
        "0\n"
       ]
      }
     ],
     "prompt_number": 51
    },
    {
     "cell_type": "code",
     "collapsed": false,
     "input": [
      "score = sim(X[1],X[4])\n",
      "print score"
     ],
     "language": "python",
     "metadata": {},
     "outputs": [
      {
       "output_type": "stream",
       "stream": "stdout",
       "text": [
        "75\n"
       ]
      }
     ],
     "prompt_number": 52
    },
    {
     "cell_type": "markdown",
     "metadata": {},
     "source": [
      "- For each image G, calculate the similarity between G and all other images. \n",
      "- Sort the other images into a list according to their similarity to G,  with the most similar one on top and the least similar one at the bottom. Call this list \"Ls\". An ideal list \"Li\" for G is a list such that all the images showing the same digit as G is above all the images showing different digits from G. One can turn \"Ls\" into \"Li\" by moving down images with digits different from G. An \"inverse count\" (for image G) is the number of images that need to be moved.  \n",
      "- Based on your similarity design, calculate \"inverse count\" for each image \n",
      "- <font color='blue'> **Report:** </font> for each digit, the average inverse count of the images showing that digit. "
     ]
    },
    {
     "cell_type": "code",
     "collapsed": false,
     "input": [
      "#for i in range(X.shape[0]):\n",
      "#Ls = list()\n",
      "for i in range(0,10):\n",
      "    print \"Digit\", Y[i]\n",
      "    tp = 0\n",
      "    fn = 0 \n",
      "    total = 0\n",
      "    fp = 0\n",
      "    for j in range(X.shape[0]):\n",
      "        score = sim(X[i],X[j])\n",
      "        threshold = 70\n",
      "        if (Y[j] == Y[i]):\n",
      "            total += 1\n",
      "            if (score <= threshold):\n",
      "                tp += 1\n",
      "                #print \"  compare to digit\", Y[j], \" ==> score:\", score, \"; tp =\", tp\n",
      "            else:\n",
      "                fn += 1\n",
      "                #print \"  compare to digit\", Y[j], \" ==> score:\", score, \"; fn =\", fn\n",
      "        else:\n",
      "            if (score <= threshold):\n",
      "                fp += 1\n",
      "                #print \"  compare to digit\", Y[j], \" ==> score:\", score, \"; fp =\", fp\n",
      "            #else:\n",
      "                #print \"  compare to digit\", Y[j], \" ==> score:\", score\n",
      "            \n",
      "        #Ls.append(score)\n",
      "    \n",
      "    #inverse_count = total - match\n",
      "    print \"  total:\", total, \"; true positive (tp) =\", tp, \"; false negative (fn) =\", fn, \"; false positive (fp) =\", fp\n",
      "    print \"  inverse count = \", fp"
     ],
     "language": "python",
     "metadata": {},
     "outputs": [
      {
       "output_type": "stream",
       "stream": "stdout",
       "text": [
        "Digit 0\n",
        "  total:"
       ]
      },
      {
       "output_type": "stream",
       "stream": "stdout",
       "text": [
        " 178 ; true positive (tp) = 94 ; false negative (fn) = 84 ; false positive (fp) = 35\n",
        "  inverse count =  35\n",
        "Digit 1\n",
        "  total:"
       ]
      },
      {
       "output_type": "stream",
       "stream": "stdout",
       "text": [
        " 182 ; true positive (tp) = 124 ; false negative (fn) = 58 ; false positive (fp) = 129\n",
        "  inverse count =  129\n",
        "Digit 2\n",
        "  total:"
       ]
      },
      {
       "output_type": "stream",
       "stream": "stdout",
       "text": [
        " 177 ; true positive (tp) = 13 ; false negative (fn) = 164 ; false positive (fp) = 34\n",
        "  inverse count =  34\n",
        "Digit 3\n",
        "  total:"
       ]
      },
      {
       "output_type": "stream",
       "stream": "stdout",
       "text": [
        " 183 ; true positive (tp) = 60 ; false negative (fn) = 123 ; false positive (fp) = 206\n",
        "  inverse count =  206\n",
        "Digit 4\n",
        "  total:"
       ]
      },
      {
       "output_type": "stream",
       "stream": "stdout",
       "text": [
        " 181 ; true positive (tp) = 62 ; false negative (fn) = 119 ; false positive (fp) = 62\n",
        "  inverse count =  62\n",
        "Digit 5\n",
        "  total:"
       ]
      },
      {
       "output_type": "stream",
       "stream": "stdout",
       "text": [
        " 182 ; true positive (tp) = 6 ; false negative (fn) = 176 ; false positive (fp) = 135\n",
        "  inverse count =  135\n",
        "Digit 6\n",
        "  total:"
       ]
      },
      {
       "output_type": "stream",
       "stream": "stdout",
       "text": [
        " 181 ; true positive (tp) = 58 ; false negative (fn) = 123 ; false positive (fp) = 104\n",
        "  inverse count =  104\n",
        "Digit 7\n",
        "  total:"
       ]
      },
      {
       "output_type": "stream",
       "stream": "stdout",
       "text": [
        " 179 ; true positive (tp) = 33 ; false negative (fn) = 146 ; false positive (fp) = 19\n",
        "  inverse count =  19\n",
        "Digit 8\n",
        "  total:"
       ]
      },
      {
       "output_type": "stream",
       "stream": "stdout",
       "text": [
        " 174 ; true positive (tp) = 16 ; false negative (fn) = 158 ; false positive (fp) = 44\n",
        "  inverse count =  44\n",
        "Digit 9\n",
        "  total:"
       ]
      },
      {
       "output_type": "stream",
       "stream": "stdout",
       "text": [
        " 180 ; true positive (tp) = 12 ; false negative (fn) = 168 ; false positive (fp) = 56\n",
        "  inverse count =  56\n"
       ]
      }
     ],
     "prompt_number": 53
    },
    {
     "cell_type": "markdown",
     "metadata": {},
     "source": [
      "- Turn your similarity design into a kernel and test its prediction power with SVM using 10-fold cv.  \n",
      "- <font color='blue'> **Report:** </font> 10-fold cv performance of your similarity."
     ]
    },
    {
     "cell_type": "code",
     "collapsed": false,
     "input": [
      "X.shape[0]\n"
     ],
     "language": "python",
     "metadata": {},
     "outputs": [
      {
       "metadata": {},
       "output_type": "pyout",
       "prompt_number": 54,
       "text": [
        "1797"
       ]
      }
     ],
     "prompt_number": 54
    },
    {
     "cell_type": "code",
     "collapsed": false,
     "input": [
      "# linear kernel is used here, you need to modify it to your custom kernel\n",
      "k_folds = cross_validation.KFold(X.shape[0], n_folds=10)\n",
      "\n",
      "for train_index, test_index in k_folds:\n",
      "    X_train, X_test = X[train_index], X[test_index]\n",
      "    y_train, y_test = Y[train_index], Y[test_index]\n",
      "\n",
      "    svc = SVC(gamma=0.001)\n",
      "    svc.fit(X_train, y_train)\n",
      "    predicted = svc.predict(y_test)\n",
      "    \n",
      "    print(\"Classification report for classifier %s:\\n%s\\n\"\n",
      "      % (classifier, metrics.classification_report(expected, predicted)))\n",
      "    print(\"Confusion matrix:\\n%s\" % metrics.confusion_matrix(expected, predicted))\n",
      "    \n",
      "    #svc = SVC(kernel='precomputed')\n",
      "    #kernel_train = np.dot(X_train, X_train.T)  \n",
      "    #svc.fit(kernel_train, y_train)\n",
      "    #kernel_test = np.dot(X_test, X_train.T)\n",
      "    #y_pred = svc.predict(kernel_test)\n",
      "    #print 'accuracy score: %0.3f' % accuracy_score(y_test, y_pred)"
     ],
     "language": "python",
     "metadata": {},
     "outputs": [
      {
       "ename": "ValueError",
       "evalue": "X.shape[1] = 180 should be equal to 64, the number of features at training time",
       "output_type": "pyerr",
       "traceback": [
        "\u001b[0;31m---------------------------------------------------------------------------\u001b[0m\n\u001b[0;31mValueError\u001b[0m                                Traceback (most recent call last)",
        "\u001b[0;32m<ipython-input-61-92dcab8d8496>\u001b[0m in \u001b[0;36m<module>\u001b[0;34m()\u001b[0m\n\u001b[1;32m      8\u001b[0m     \u001b[0msvc\u001b[0m \u001b[0;34m=\u001b[0m \u001b[0mSVC\u001b[0m\u001b[0;34m(\u001b[0m\u001b[0mgamma\u001b[0m\u001b[0;34m=\u001b[0m\u001b[0;36m0.001\u001b[0m\u001b[0;34m)\u001b[0m\u001b[0;34m\u001b[0m\u001b[0m\n\u001b[1;32m      9\u001b[0m     \u001b[0msvc\u001b[0m\u001b[0;34m.\u001b[0m\u001b[0mfit\u001b[0m\u001b[0;34m(\u001b[0m\u001b[0mX_train\u001b[0m\u001b[0;34m,\u001b[0m \u001b[0my_train\u001b[0m\u001b[0;34m)\u001b[0m\u001b[0;34m\u001b[0m\u001b[0m\n\u001b[0;32m---> 10\u001b[0;31m     \u001b[0mpredicted\u001b[0m \u001b[0;34m=\u001b[0m \u001b[0msvc\u001b[0m\u001b[0;34m.\u001b[0m\u001b[0mpredict\u001b[0m\u001b[0;34m(\u001b[0m\u001b[0my_test\u001b[0m\u001b[0;34m)\u001b[0m\u001b[0;34m\u001b[0m\u001b[0m\n\u001b[0m\u001b[1;32m     11\u001b[0m \u001b[0;34m\u001b[0m\u001b[0m\n\u001b[1;32m     12\u001b[0m     print(\"Classification report for classifier %s:\\n%s\\n\"\n",
        "\u001b[0;32m/Users/nhonaitran/Library/Enthought/Canopy_64bit/User/lib/python2.7/site-packages/sklearn/svm/base.pyc\u001b[0m in \u001b[0;36mpredict\u001b[0;34m(self, X)\u001b[0m\n\u001b[1;32m    465\u001b[0m             \u001b[0mClass\u001b[0m \u001b[0mlabels\u001b[0m \u001b[0;32mfor\u001b[0m \u001b[0msamples\u001b[0m \u001b[0;32min\u001b[0m \u001b[0mX\u001b[0m\u001b[0;34m.\u001b[0m\u001b[0;34m\u001b[0m\u001b[0m\n\u001b[1;32m    466\u001b[0m         \"\"\"\n\u001b[0;32m--> 467\u001b[0;31m         \u001b[0my\u001b[0m \u001b[0;34m=\u001b[0m \u001b[0msuper\u001b[0m\u001b[0;34m(\u001b[0m\u001b[0mBaseSVC\u001b[0m\u001b[0;34m,\u001b[0m \u001b[0mself\u001b[0m\u001b[0;34m)\u001b[0m\u001b[0;34m.\u001b[0m\u001b[0mpredict\u001b[0m\u001b[0;34m(\u001b[0m\u001b[0mX\u001b[0m\u001b[0;34m)\u001b[0m\u001b[0;34m\u001b[0m\u001b[0m\n\u001b[0m\u001b[1;32m    468\u001b[0m         \u001b[0;32mreturn\u001b[0m \u001b[0mself\u001b[0m\u001b[0;34m.\u001b[0m\u001b[0mclasses_\u001b[0m\u001b[0;34m.\u001b[0m\u001b[0mtake\u001b[0m\u001b[0;34m(\u001b[0m\u001b[0mnp\u001b[0m\u001b[0;34m.\u001b[0m\u001b[0masarray\u001b[0m\u001b[0;34m(\u001b[0m\u001b[0my\u001b[0m\u001b[0;34m,\u001b[0m \u001b[0mdtype\u001b[0m\u001b[0;34m=\u001b[0m\u001b[0mnp\u001b[0m\u001b[0;34m.\u001b[0m\u001b[0mintp\u001b[0m\u001b[0;34m)\u001b[0m\u001b[0;34m)\u001b[0m\u001b[0;34m\u001b[0m\u001b[0m\n\u001b[1;32m    469\u001b[0m \u001b[0;34m\u001b[0m\u001b[0m\n",
        "\u001b[0;32m/Users/nhonaitran/Library/Enthought/Canopy_64bit/User/lib/python2.7/site-packages/sklearn/svm/base.pyc\u001b[0m in \u001b[0;36mpredict\u001b[0;34m(self, X)\u001b[0m\n\u001b[1;32m    281\u001b[0m         \u001b[0my_pred\u001b[0m \u001b[0;34m:\u001b[0m \u001b[0marray\u001b[0m\u001b[0;34m,\u001b[0m \u001b[0mshape\u001b[0m \u001b[0;34m(\u001b[0m\u001b[0mn_samples\u001b[0m\u001b[0;34m,\u001b[0m\u001b[0;34m)\u001b[0m\u001b[0;34m\u001b[0m\u001b[0m\n\u001b[1;32m    282\u001b[0m         \"\"\"\n\u001b[0;32m--> 283\u001b[0;31m         \u001b[0mX\u001b[0m \u001b[0;34m=\u001b[0m \u001b[0mself\u001b[0m\u001b[0;34m.\u001b[0m\u001b[0m_validate_for_predict\u001b[0m\u001b[0;34m(\u001b[0m\u001b[0mX\u001b[0m\u001b[0;34m)\u001b[0m\u001b[0;34m\u001b[0m\u001b[0m\n\u001b[0m\u001b[1;32m    284\u001b[0m         \u001b[0mpredict\u001b[0m \u001b[0;34m=\u001b[0m \u001b[0mself\u001b[0m\u001b[0;34m.\u001b[0m\u001b[0m_sparse_predict\u001b[0m \u001b[0;32mif\u001b[0m \u001b[0mself\u001b[0m\u001b[0;34m.\u001b[0m\u001b[0m_sparse\u001b[0m \u001b[0;32melse\u001b[0m \u001b[0mself\u001b[0m\u001b[0;34m.\u001b[0m\u001b[0m_dense_predict\u001b[0m\u001b[0;34m\u001b[0m\u001b[0m\n\u001b[1;32m    285\u001b[0m         \u001b[0;32mreturn\u001b[0m \u001b[0mpredict\u001b[0m\u001b[0;34m(\u001b[0m\u001b[0mX\u001b[0m\u001b[0;34m)\u001b[0m\u001b[0;34m\u001b[0m\u001b[0m\n",
        "\u001b[0;32m/Users/nhonaitran/Library/Enthought/Canopy_64bit/User/lib/python2.7/site-packages/sklearn/svm/base.pyc\u001b[0m in \u001b[0;36m_validate_for_predict\u001b[0;34m(self, X)\u001b[0m\n\u001b[1;32m    403\u001b[0m             raise ValueError(\"X.shape[1] = %d should be equal to %d, \"\n\u001b[1;32m    404\u001b[0m                              \u001b[0;34m\"the number of features at training time\"\u001b[0m \u001b[0;34m%\u001b[0m\u001b[0;34m\u001b[0m\u001b[0m\n\u001b[0;32m--> 405\u001b[0;31m                              (n_features, self.shape_fit_[1]))\n\u001b[0m\u001b[1;32m    406\u001b[0m         \u001b[0;32mreturn\u001b[0m \u001b[0mX\u001b[0m\u001b[0;34m\u001b[0m\u001b[0m\n\u001b[1;32m    407\u001b[0m \u001b[0;34m\u001b[0m\u001b[0m\n",
        "\u001b[0;31mValueError\u001b[0m: X.shape[1] = 180 should be equal to 64, the number of features at training time"
       ]
      }
     ],
     "prompt_number": 61
    },
    {
     "cell_type": "markdown",
     "metadata": {},
     "source": [
      "## Task 2\n",
      "\n",
      "- For each image G, identify the k (try small k around 10) images most similar to G according to your similarity measure.\n",
      "- We call it \"specificity\" (for image G) the fraction of images in the k images that show the same digit as G.\n",
      "- Calculate specificity for each image.\n",
      "- <font color='blue'> **Report:** </font> for each digit, the average specificity of the images showing that digit. "
     ]
    },
    {
     "cell_type": "code",
     "collapsed": false,
     "input": [],
     "language": "python",
     "metadata": {},
     "outputs": [],
     "prompt_number": 7
    },
    {
     "cell_type": "markdown",
     "metadata": {},
     "source": [
      "- Limit to images of digits \"4\" and \"6\". Construct a graph by connecting, for each image, its k most similar images. \n",
      "- <font color='blue'> **Report:** </font> Is this graph connected? If not, find out how many connected components are there. For each connected component, find out whether it contain only images of one digit or it contain images of both digits. "
     ]
    },
    {
     "cell_type": "code",
     "collapsed": false,
     "input": [],
     "language": "python",
     "metadata": {},
     "outputs": []
    },
    {
     "cell_type": "markdown",
     "metadata": {},
     "source": [
      "- Limit to images of digits \"4\" and \"6\". Suppose you only have 20 labeled examples from each class/digit. Try either:\n",
      "\n",
      "     - label propagation\n",
      "     - energy minimization\n",
      "     \n",
      "with your graph to label all the images. Repeat the experiment 10 times (each with a different random set of examples) \n",
      "- <font color='blue'> **Report:** </font> average accuracy of the experiments.  "
     ]
    },
    {
     "cell_type": "code",
     "collapsed": false,
     "input": [],
     "language": "python",
     "metadata": {},
     "outputs": []
    }
   ],
   "metadata": {}
  }
 ]
}